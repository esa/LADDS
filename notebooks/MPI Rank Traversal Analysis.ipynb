{
 "cells": [
  {
   "cell_type": "code",
   "execution_count": null,
   "outputs": [],
   "source": [
    "### Imports\n",
    "%load_ext autoreload\n",
    "%autoreload 2\n",
    "\n",
    "# Append main folder\n",
    "import sys\n",
    "sys.path.append(\"../\")\n",
    "import math\n",
    "from glob import glob\n",
    "\n",
    "from tqdm import tqdm\n",
    "import numpy as np\n",
    "import matplotlib.pyplot as plt\n",
    "import pandas as pd\n",
    "import h5py\n",
    "# import pykep as pk\n",
    "import seaborn as sns\n",
    "sns.set_theme()\n",
    "sns.set(font_scale = 1.5)\n",
    "from mpl_toolkits import mplot3d\n",
    "#%matplotlib notebook\n",
    "\n",
    "dt = 10 #timestep of the inspected simulations, affects time labels in plots\n",
    "# starting_t = pk.epoch_from_string('2022-01-01 00:00:00.000') # starting t of the simulation"
   ],
   "metadata": {
    "collapsed": false,
    "pycharm": {
     "name": "#%%\n"
    }
   }
  },
  {
   "cell_type": "code",
   "execution_count": null,
   "outputs": [],
   "source": [
    "all_files = [h5py.File(\"/work/ga68cat/simdata/LADDS/09_oneOrbitMPI/ranks_64/cells_27/simulationData.h5_rank_\"+str(i)) for i in range(64)]"
   ],
   "metadata": {
    "collapsed": false,
    "pycharm": {
     "name": "#%%\n"
    }
   }
  },
  {
   "cell_type": "code",
   "execution_count": null,
   "outputs": [],
   "source": [
    "# Load hdf5 file\n",
    "data = h5py.File(\"/work/ga68cat/simdata/LADDS/09_oneOrbitMPI/ranks_64/cells_27/simulationData.h5_rank_0\")\n",
    "\n",
    "# Determine the iterations at which output was written\n",
    "iterations_idx_str = list(data[\"ParticleData\"].keys())\n",
    "iterations_idx = []\n",
    "for it in iterations_idx_str:\n",
    "    if it != \"ConstantProperties\":\n",
    "        iterations_idx.append(int(it))\n",
    "iterations_idx.sort()\n",
    "max_iterations = max(iterations_idx)\n",
    "print(\"Found a total of\", max_iterations, \" iterations.\")\n",
    "\n",
    "# Find out the simulation runtime in days\n",
    "# end_t = pk.epoch(starting_t.mjd2000 + max_iterations * dt * pk.SEC2DAY)\n",
    "# total_days = end_t.mjd - starting_t.mjd\n",
    "# print(\"Simulation ran for a total of\", total_days, \" days.\")"
   ],
   "metadata": {
    "collapsed": false,
    "pycharm": {
     "name": "#%%\n"
    }
   }
  },
  {
   "cell_type": "code",
   "execution_count": null,
   "outputs": [],
   "source": [
    "len(iterations_idx)"
   ],
   "metadata": {
    "collapsed": false,
    "pycharm": {
     "name": "#%%\n"
    }
   }
  },
  {
   "cell_type": "code",
   "execution_count": null,
   "outputs": [],
   "source": [
    "particles = {}\n",
    "for rank_idx,rank in tqdm(enumerate(all_files)):\n",
    "    for idx in iterations_idx:\n",
    "        ids = np.array(rank[\"ParticleData\"][str(idx)][\"Particles\"][\"IDs\"])\n",
    "        for id in ids:\n",
    "            if id not in particles.keys():\n",
    "                particles[id] = np.zeros(len(iterations_idx))\n",
    "            particles[id][idx] = rank_idx"
   ],
   "metadata": {
    "collapsed": false,
    "pycharm": {
     "name": "#%%\n"
    }
   }
  },
  {
   "cell_type": "code",
   "execution_count": null,
   "outputs": [],
   "source": [
    "rank_load = np.zeros((64,800))\n",
    "for rank_idx,rank in tqdm(enumerate(all_files)):\n",
    "    for idx in iterations_idx:\n",
    "         rank_load[rank_idx,idx] = len(np.array(rank[\"ParticleData\"][str(idx)][\"Particles\"][\"IDs\"]))"
   ],
   "metadata": {
    "collapsed": false,
    "pycharm": {
     "name": "#%%\n"
    }
   }
  },
  {
   "cell_type": "code",
   "execution_count": null,
   "outputs": [],
   "source": [
    "visited_ranks = []\n",
    "for particle in particles.values():\n",
    "    visited_ranks.append(len(np.unique(particle))) "
   ],
   "metadata": {
    "collapsed": false,
    "pycharm": {
     "name": "#%%\n"
    }
   }
  },
  {
   "cell_type": "code",
   "execution_count": null,
   "outputs": [],
   "source": [
    "sns.set_style(\"white\")\n",
    "p = sns.displot(visited_ranks, kind=\"hist\",multiple=\"stack\",log_scale=(False,False),bins=len(np.unique(visited_ranks)))\n",
    "plt.xlabel(\"# of visited ranks\")\n",
    "plt.ylabel(\"# of particles\")\n",
    "plt.yscale('log')\n",
    "plt.gcf().set_size_inches(10, 4)\n",
    "plt.gcf().set_dpi(300)\n",
    "sns.set()"
   ],
   "metadata": {
    "collapsed": false,
    "pycharm": {
     "name": "#%%\n"
    }
   }
  },
  {
   "cell_type": "code",
   "execution_count": null,
   "outputs": [],
   "source": [
    "data = np.transpose(rank_load)\n",
    "sns.set_style(\"white\")\n",
    "p = sns.displot(rank_load[:,0], kind=\"hist\",multiple=\"stack\",log_scale=(False,False))\n",
    "plt.xlabel(\"Iteration\")\n",
    "plt.ylabel(\"# of particles in rank\")\n",
    "# plt.yscale('log')\n",
    "plt.gcf().set_size_inches(10, 4)\n",
    "plt.gcf().set_dpi(300)\n",
    "sns.set()\n"
   ],
   "metadata": {
    "collapsed": false,
    "pycharm": {
     "name": "#%%\n"
    }
   }
  },
  {
   "cell_type": "code",
   "execution_count": null,
   "outputs": [],
   "source": [
    "data = np.transpose(rank_load)\n",
    "sns.set_style(\"white\")\n",
    "sns.relplot(kind=\"line\", data=data,palette=\"magma\",legend=False);\n",
    "plt.xlabel(\"Iteration\")\n",
    "plt.ylabel(\"# of particles in rank\")\n",
    "# plt.yscale('log')\n",
    "plt.gcf().set_size_inches(10, 4)\n",
    "plt.gcf().set_dpi(300)\n",
    "sns.set()"
   ],
   "metadata": {
    "collapsed": false,
    "pycharm": {
     "name": "#%%\n"
    }
   }
  },
  {
   "cell_type": "markdown",
   "source": [
    "### Particles per rank\n",
    "Error bars (=small points) for variation over time."
   ],
   "metadata": {
    "collapsed": false,
    "pycharm": {
     "name": "#%% md\n"
    }
   }
  },
  {
   "cell_type": "code",
   "execution_count": null,
   "outputs": [],
   "source": [
    "data = np.transpose(rank_load)\n",
    "ax = sns.barplot(data=data)\n",
    "ax.set_xticklabels(ax.get_xticklabels(), rotation=90, ha=\"right\")\n",
    "plt.gcf().set_size_inches(10, 4)\n",
    "plt.gcf().set_dpi(300)\n",
    "plt.tight_layout()\n",
    "sns.set()"
   ],
   "metadata": {
    "collapsed": false,
    "pycharm": {
     "name": "#%%\n"
    }
   }
  },
  {
   "cell_type": "markdown",
   "source": [
    "### Particles per rank\n",
    "Error bars (=small points) for variation over time."
   ],
   "metadata": {
    "collapsed": false,
    "pycharm": {
     "name": "#%% md\n"
    }
   }
  },
  {
   "cell_type": "code",
   "execution_count": null,
   "outputs": [],
   "source": [
    "data = np.transpose(rank_load)\n",
    "ax = sns.barplot(data=data)\n",
    "ax.set_xticklabels(ax.get_xticklabels(), rotation=90, ha=\"right\")\n",
    "plt.gcf().set_size_inches(10, 4)\n",
    "plt.gcf().set_dpi(300)\n",
    "plt.tight_layout()\n",
    "sns.set()"
   ],
   "metadata": {
    "collapsed": false,
    "pycharm": {
     "name": "#%%\n"
    }
   }
  }
 ],
 "metadata": {
  "kernelspec": {
   "display_name": "Python 3 (ipykernel)",
   "language": "python",
   "name": "python3"
  },
  "language_info": {
   "codemirror_mode": {
    "name": "ipython",
    "version": 3
   },
   "file_extension": ".py",
   "mimetype": "text/x-python",
   "name": "python",
   "nbconvert_exporter": "python",
   "pygments_lexer": "ipython3",
   "version": "3.9.7"
  }
 },
 "nbformat": 4,
 "nbformat_minor": 5
}