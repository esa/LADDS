{
 "cells": [
  {
   "cell_type": "code",
   "execution_count": null,
   "id": "b5fe1f2e",
   "metadata": {},
   "outputs": [],
   "source": [
    "### Imports\n",
    "%load_ext autoreload\n",
    "%autoreload 2\n",
    "\n",
    "# Append main folder\n",
    "import sys\n",
    "sys.path.append(\"../\")\n",
    "\n",
    "from glob import glob\n",
    "\n",
    "from tqdm import tqdm\n",
    "import pykep as pk\n",
    "import numpy as np\n",
    "import matplotlib.pyplot as plt\n",
    "import pandas as pd\n",
    "\n",
    "dt = 0.01\n",
    "starting_t = pk.epoch_from_string('2022-01-01 00:00:00.000')\n",
    "iterations = 100\n",
    "end_t = pk.epoch(starting_t.mjd2000 + iterations * dt * pk.SEC2DAY)"
   ]
  },
  {
   "cell_type": "code",
   "execution_count": null,
   "id": "ba281ee2",
   "metadata": {},
   "outputs": [],
   "source": [
    "# Load test data\n",
    "init_r = np.loadtxt(\"../data/pos.csv\",delimiter=\",\")\n",
    "init_v = np.loadtxt(\"../data/v.csv\",delimiter=\",\")"
   ]
  },
  {
   "cell_type": "code",
   "execution_count": null,
   "id": "3c6adf1e",
   "metadata": {},
   "outputs": [],
   "source": [
    "files = glob(\"../build/*.vtu\")\n",
    "file = \"../build/output_\" + str(iterations) + \".vtu\""
   ]
  },
  {
   "cell_type": "code",
   "execution_count": null,
   "id": "bf9e8f72",
   "metadata": {},
   "outputs": [],
   "source": [
    "from vtk import vtkXMLUnstructuredGridReader\n",
    "from vtk.util import numpy_support as VN\n",
    "\n",
    "reader = vtkXMLUnstructuredGridReader()\n",
    "reader.SetFileName(file)\n",
    "reader.Update()\n",
    "\n",
    "data = reader.GetOutput()\n",
    "\n",
    "v = VN.vtk_to_numpy(data.GetPointData().GetArray('velocity')).astype(\"double\")\n",
    "r = VN.vtk_to_numpy(data.GetPoints().GetData()).astype(\"double\")"
   ]
  },
  {
   "cell_type": "code",
   "execution_count": null,
   "id": "0cf78a93",
   "metadata": {},
   "outputs": [],
   "source": [
    "init_v"
   ]
  },
  {
   "cell_type": "code",
   "execution_count": null,
   "id": "93beb687",
   "metadata": {},
   "outputs": [],
   "source": [
    "v / 1000"
   ]
  },
  {
   "cell_type": "code",
   "execution_count": null,
   "id": "20fe73f7",
   "metadata": {},
   "outputs": [],
   "source": [
    "r"
   ]
  },
  {
   "cell_type": "code",
   "execution_count": null,
   "id": "ce842a55",
   "metadata": {},
   "outputs": [],
   "source": [
    "errs = [[],[],[],[],[],[]]\n",
    "\n",
    "for v_p,r_p, init_v_p,init_r_p in tqdm(zip(v,r,init_v,init_r)):\n",
    "    a,e,i,W,w,E = pk.ic2par(r_p,v_p, pk.MU_EARTH)\n",
    "    oa,oe,oi,oW,ow,oE = pk.ic2par(init_r_p * 1000.0,init_v_p* 1000.0, pk.MU_EARTH)\n",
    "    errs[0].append(abs(a-oa))\n",
    "    errs[1].append(abs(e-oe))\n",
    "    errs[2].append(abs(i-oi))\n",
    "    errs[3].append(abs(W-oW))\n",
    "    errs[4].append(abs(w-ow))\n",
    "    errs[5].append(abs(E-oE))"
   ]
  },
  {
   "cell_type": "code",
   "execution_count": null,
   "id": "06e35f59",
   "metadata": {},
   "outputs": [],
   "source": [
    "for err,name in zip(errs, [\"a\",\"e\",\"i\",\"W\",\"w\",\"E\"]):\n",
    "    print(f\"{name} Error - Mean. {np.mean(err):<10.6f} Min. {np.min(err):<8.6f} Max. {np.max(err):<8.6f}\")"
   ]
  },
  {
   "cell_type": "code",
   "execution_count": null,
   "id": "9106a5ec",
   "metadata": {},
   "outputs": [],
   "source": [
    "for err,name in zip(errs, [\"a\",\"e\",\"i\",\"W\",\"w\",\"E\"]):\n",
    "    df = pd.DataFrame(data=err)\n",
    "    df.plot.hist(title=name,bins=100,density=True, cumulative=True)\n",
    "    plt.xlim(0,100)"
   ]
  },
  {
   "cell_type": "code",
   "execution_count": null,
   "id": "c62f0d3f",
   "metadata": {},
   "outputs": [],
   "source": [
    "idx = 1000\n",
    "p_init = pk.planet.keplerian(starting_t, init_r[idx] * 1000.0,init_v[idx] * 1000.0,pk.MU_EARTH,1.,1.,1.)\n",
    "p = pk.planet.keplerian(end_t,r[idx], v[idx],pk.MU_EARTH,1.,1.,1.)"
   ]
  },
  {
   "cell_type": "code",
   "execution_count": null,
   "id": "9686a1c4",
   "metadata": {},
   "outputs": [],
   "source": [
    "ax = pk.orbit_plots.plot_planet(p_init)\n",
    "pk.orbit_plots.plot_planet(p,axes=ax)"
   ]
  },
  {
   "cell_type": "code",
   "execution_count": null,
   "id": "7c75bcf5",
   "metadata": {},
   "outputs": [],
   "source": []
  }
 ],
 "metadata": {
  "kernelspec": {
   "display_name": "Python 3 (ipykernel)",
   "language": "python",
   "name": "python3"
  },
  "language_info": {
   "codemirror_mode": {
    "name": "ipython",
    "version": 3
   },
   "file_extension": ".py",
   "mimetype": "text/x-python",
   "name": "python",
   "nbconvert_exporter": "python",
   "pygments_lexer": "ipython3",
   "version": "3.9.7"
  }
 },
 "nbformat": 4,
 "nbformat_minor": 5
}
