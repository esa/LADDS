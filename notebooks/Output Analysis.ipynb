{
 "cells": [
  {
   "cell_type": "code",
   "execution_count": null,
   "id": "8ff1a18f",
   "metadata": {},
   "outputs": [],
   "source": [
    "### Imports\n",
    "%load_ext autoreload\n",
    "%autoreload 2\n",
    "\n",
    "# Append main folder\n",
    "import sys\n",
    "sys.path.append(\"../\")\n",
    "\n",
    "from glob import glob\n",
    "\n",
    "import pykep as pk\n",
    "import numpy as np\n",
    "import matplotlib.pyplot as plt\n",
    "\n",
    "dt = 36\n",
    "starting_t = pk.epoch_from_string('2022-01-01 00:00:00.000')\n",
    "iterations = 2400\n",
    "end_t = pk.epoch(starting_t.mjd2000 + iterations * dt * pk.SEC2DAY)"
   ]
  },
  {
   "cell_type": "code",
   "execution_count": null,
   "id": "fb54a60a",
   "metadata": {},
   "outputs": [],
   "source": [
    "# Load test data\n",
    "init_r = np.loadtxt(\"../data/pos.csv\",delimiter=\",\")\n",
    "init_v = np.loadtxt(\"../data/v.csv\",delimiter=\",\")"
   ]
  },
  {
   "cell_type": "code",
   "execution_count": null,
   "id": "dcad7b0a",
   "metadata": {},
   "outputs": [],
   "source": [
    "files = glob(\"../build/*.vtu\")\n",
    "file = \"../build/output_10.vtu\""
   ]
  },
  {
   "cell_type": "code",
   "execution_count": null,
   "id": "9b9f9f47",
   "metadata": {},
   "outputs": [],
   "source": [
    "from vtk import vtkXMLUnstructuredGridReader\n",
    "from vtk.util import numpy_support as VN\n",
    "\n",
    "reader = vtkXMLUnstructuredGridReader()\n",
    "reader.SetFileName(file)\n",
    "reader.Update()\n",
    "\n",
    "data = reader.GetOutput()\n",
    "\n",
    "v = VN.vtk_to_numpy(data.GetPointData().GetArray('velocity')).astype(\"double\")\n",
    "r = VN.vtk_to_numpy(data.GetPoints().GetData()).astype(\"double\")"
   ]
  },
  {
   "cell_type": "code",
   "execution_count": null,
   "id": "a3ec64fb",
   "metadata": {},
   "outputs": [],
   "source": [
    "v"
   ]
  },
  {
   "cell_type": "code",
   "execution_count": null,
   "id": "c79307b4",
   "metadata": {},
   "outputs": [],
   "source": [
    "r"
   ]
  },
  {
   "cell_type": "code",
   "execution_count": null,
   "id": "84f5ee55",
   "metadata": {},
   "outputs": [],
   "source": [
    "from tqdm import tqdm\n",
    "errs = [[],[],[],[],[],[]]\n",
    "\n",
    "for v_p,r_p, init_v_p,init_r_p in tqdm(zip(v,r,init_v,init_r)):\n",
    "    a,e,i,W,w,E = pk.ic2par(r_p,v_p, pk.MU_EARTH)\n",
    "    oa,oe,oi,oW,ow,oE = pk.ic2par(init_r_p * 1000.0,init_v_p* 1000.0, pk.MU_EARTH)\n",
    "    errs[0].append(abs(a-oa) / 1000.0)\n",
    "    errs[1].append(abs(e-oe))\n",
    "    errs[2].append(abs(i-oi))\n",
    "    errs[3].append(abs(W-oW))\n",
    "    errs[4].append(abs(w-ow))\n",
    "    errs[5].append(abs(E-oE))"
   ]
  },
  {
   "cell_type": "code",
   "execution_count": null,
   "id": "3f2fef4b",
   "metadata": {},
   "outputs": [],
   "source": [
    "for err,name in zip(errs, [\"a\",\"e\",\"i\",\"W\",\"w\",\"E\"]):\n",
    "    print(f\"{name} Error - Mean. {np.mean(err):<10.6f} Min. {np.min(err):<8.6f} Max. {np.max(err):<8.6f}\")"
   ]
  }
 ],
 "metadata": {
  "kernelspec": {
   "display_name": "Python 3 (ipykernel)",
   "language": "python",
   "name": "python3"
  },
  "language_info": {
   "codemirror_mode": {
    "name": "ipython",
    "version": 3
   },
   "file_extension": ".py",
   "mimetype": "text/x-python",
   "name": "python",
   "nbconvert_exporter": "python",
   "pygments_lexer": "ipython3",
   "version": "3.9.7"
  }
 },
 "nbformat": 4,
 "nbformat_minor": 5
}
