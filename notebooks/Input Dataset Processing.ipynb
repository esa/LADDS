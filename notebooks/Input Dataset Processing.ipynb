{
 "cells": [
  {
   "cell_type": "markdown",
   "id": "b442b78f",
   "metadata": {},
   "source": [
    "# Input Data Processing\n",
    "\n",
    "This notebook serves the following purposes:\n",
    "\n",
    "1. Read JSON data from space-track.org\n",
    "2. Read the CSV SATCAT catalog from celestrak\n",
    "3. Based on above data estimate mass and radius (0.5 * characteristic length), get activity state\n",
    "4. Propagate all the satellites to the same point in time\n",
    "5. Investigate data and clean-up unwanted data. Then store.\n",
    "\n",
    "## Input files\n",
    "- CSV data from the [CelesTrak SATCAT catalog](https://celestrak.com/pub/satcat.csv) following this [format](https://celestrak.com/satcat/satcat-format.php)\n",
    "- JSON data from the [Space-Track.org JSON Full catalog](https://www.space-track.org/basicspacedata/query/class/gp/decay_date/null-val/epoch/%3Enow-30/orderby/norad_cat_id/format/json) following their [format](https://www.space-track.org/documentation#/tle)\n",
    "\n",
    "## Output files\n",
    "\n",
    "- Satellite data in CSV format with data on Satellite ID, Name, Position, Velocity, Mass, Radius (0.5 * characteristic length), BSTAR and Activity State"
   ]
  },
  {
   "cell_type": "code",
   "execution_count": null,
   "id": "0a48e2c9",
   "metadata": {},
   "outputs": [],
   "source": [
    "### Imports\n",
    "%load_ext autoreload\n",
    "%autoreload 2\n",
    "\n",
    "# Append main folder\n",
    "import sys\n",
    "sys.path.append(\"../\")\n",
    "\n",
    "import pykep as pk\n",
    "import numpy as np\n",
    "import matplotlib.pyplot as plt\n",
    "import pandas as pd\n",
    "from tqdm import tqdm \n",
    "\n",
    "starting_t = pk.epoch_from_string('2022-01-01 00:00:00.000')\n",
    "lower_cutoff_in_km = 6371 + 175 # Earth radius + ...\n",
    "higher_cutoff_in_km = 6371 + 2000\n",
    "np.random.seed(42)"
   ]
  },
  {
   "cell_type": "markdown",
   "id": "b41de53b",
   "metadata": {},
   "source": [
    "## 1 Read JSON data"
   ]
  },
  {
   "cell_type": "code",
   "execution_count": null,
   "id": "9fccb489",
   "metadata": {},
   "outputs": [],
   "source": [
    "import json\n",
    "with open(\"../data/spacetrack.json\", \"r\") as file:\n",
    "    satellites = json.load(file)\n",
    "print(\"Satellites number in json: \", len(satellites))"
   ]
  },
  {
   "cell_type": "markdown",
   "id": "afd3af8a",
   "metadata": {},
   "source": [
    "## 2. Read SATCAT data"
   ]
  },
  {
   "cell_type": "code",
   "execution_count": null,
   "id": "fb53b6d1",
   "metadata": {},
   "outputs": [],
   "source": [
    "# Read satcat data from celestrak\n",
    "satcat = pd.read_csv(\"../data/satcat.csv\")\n",
    "satcat"
   ]
  },
  {
   "cell_type": "markdown",
   "id": "ad908ccc",
   "metadata": {},
   "source": [
    "## 3. Compute mass and radius (characteristic length) and get status\n",
    "\n",
    "This follows the formulas from \n",
    "Nicholas L Johnson, Paula H Krisko, J-C Liou, and Phillip D Anz-Meador.\n",
    "Nasa’s new breakup model of evolve 4.0. Advances in Space Research, 28(9):1377–\n",
    "1384, 2001.\n",
    "\n",
    "According to space-track , RCS small, medium and large are, respectively < 0.1 , 0.1 < RCS < 1.0 and 1.0 < RCS. For simplicity using above formula we convert this to 15cm, 55cm, 200cm\n",
    "\n",
    "We get activity status from the celestrak data following https://celestrak.com/satcat/status.php"
   ]
  },
  {
   "cell_type": "code",
   "execution_count": null,
   "id": "5dc73505",
   "metadata": {},
   "outputs": [],
   "source": [
    "small_RCS = satcat[satcat[\"RCS\"] < 0.1]\n",
    "small_mean = small_RCS[\"RCS\"].mean()\n",
    "small_std = small_RCS[\"RCS\"].std()\n",
    "print(\"Small RCS mean/std=\",small_mean,\"/\",small_std)\n",
    "\n",
    "medium_RCS = satcat[(satcat[\"RCS\"] > 0.1) & (satcat[\"RCS\"] < 1.0)]\n",
    "medium_mean = medium_RCS[\"RCS\"].mean()\n",
    "medium_std = medium_RCS[\"RCS\"].std()\n",
    "print(\"Medium RCS mean/std=\",medium_mean,\"/\",medium_std)\n",
    "\n",
    "large_RCS = satcat[satcat[\"RCS\"] > 1.0]\n",
    "large_mean = large_RCS[\"RCS\"].mean()\n",
    "large_std = large_RCS[\"RCS\"].std()\n",
    "print(\"Large RCS mean/std=\",large_mean,\"/\",large_std)"
   ]
  },
  {
   "cell_type": "code",
   "execution_count": null,
   "id": "6a79d2bf",
   "metadata": {},
   "outputs": [],
   "source": [
    "sats_with_info = []\n",
    "use_TLE = True\n",
    "sampled_radii = []\n",
    "\n",
    "for sat in tqdm(satellites):\n",
    "    \n",
    "    satcat_sat = satcat[satcat[\"COSPAR_ID\"] == sat[\"COSPAR_ID\"]]\n",
    "    \n",
    "    # Skip decayed ones or ones not in celestrak\n",
    "    if len(satcat_sat) == 0 or satcat_sat[\"OPS_STATUS_CODE\"].values == \"D\":\n",
    "        continue\n",
    "    \n",
    "    # Choose L_C via sampling from a normal distribution and lower bounds. \n",
    "    # Bounds and distribution parameters are chosen according to satcat size category.\n",
    "    if not np.isnan(satcat_sat[\"RCS\"].values):\n",
    "        sat[\"RADIUS\"] = np.sqrt(float(satcat_sat[\"RCS\"].values) / np.pi)\n",
    "    else:\n",
    "        if sat[\"RCS_SIZE\"] == \"SMALL\":\n",
    "            sat[\"RADIUS\"] = np.sqrt(np.maximum(0.005**2,np.random.normal(small_mean,small_std) / np.pi))\n",
    "        elif sat[\"RCS_SIZE\"] == \"MEDIUM\":\n",
    "            sat[\"RADIUS\"] = np.sqrt(np.maximum(0.1 / np.pi,np.random.normal(medium_mean,medium_std) / np.pi))\n",
    "        elif sat[\"RCS_SIZE\"] == \"LARGE\":\n",
    "            sat[\"RADIUS\"] = np.sqrt(np.maximum(1.0 / np.pi,np.random.normal(large_mean,large_std) / np.pi))\n",
    "        else:\n",
    "            # skip if no info was found\n",
    "            continue\n",
    "        sampled_radii.append(sat[\"RADIUS\"])\n",
    "            \n",
    "    # Determine Mass\n",
    "    if sat[\"RADIUS\"] > 0.01:\n",
    "        sat[\"MASS\"] = 4 / 3 * np.pi *(sat[\"RADIUS\"])**3 * 92.937 * (sat[\"RADIUS\"]*2)**(-0.74)\n",
    "    else:\n",
    "        sat[\"MASS\"] = 4 / 3 * np.pi *(sat[\"RADIUS\"])**3 * 2698.9\n",
    "        \n",
    "        \n",
    "    # Determine if active satellite\n",
    "    if satcat_sat[\"OPS_STATUS_CODE\"].values in [\"+\",\"P\",\"B\",\"S\",\"X\"]:\n",
    "        sat[\"TYPE\"] = \"evasive\"\n",
    "    else:\n",
    "        sat[\"TYPE\"] = \"passive\"\n",
    "    \n",
    "    # Add planet\n",
    "    t0 = pk.epoch_from_string(sat[\"EPOCH\"].replace(\"T\",\" \"))\n",
    "    if use_TLE:\n",
    "        try:\n",
    "            line1 = sat[\"TLE_LINE1\"]\n",
    "            line2 = sat[\"TLE_LINE2\"]\n",
    "            planet = pk.planet.tle(line1, line2)\n",
    "        except RuntimeError:\n",
    "            print(\"Error reading \\n\",line1,\"\\n\",line2)\n",
    "    else:\n",
    "        elements = [float(sat[\"SEMIMAJOR_AXIS\"]) * 1000.,\n",
    "                    float(sat[\"ECCENTRICITY\"]),\n",
    "                    float(sat[\"INCLINATION\"]) * pk.DEG2RAD,\n",
    "                    float(sat[\"RA_OF_ASC_NODE\"]) * pk.DEG2RAD,\n",
    "                    float(sat[\"ARG_OF_PERICENTER\"]) * pk.DEG2RAD,\n",
    "                    float(sat[\"MEAN_ANOMALY\"]) * pk.DEG2RAD,\n",
    "                   ]\n",
    "        planet = pk.planet.keplerian(t0,elements,pk.MU_EARTH,6.67430e-11*sat[\"MASS\"],sat[\"RADIUS\"] / 2,sat[\"RADIUS\"] / 2)\n",
    "    sat[\"PLANET\"] = planet\n",
    "    \n",
    "    sats_with_info.append(sat)\n",
    "    \n",
    "print(\"Now we have a total of \",len(sats_with_info), \"sats.\")"
   ]
  },
  {
   "cell_type": "markdown",
   "id": "8cd629fd",
   "metadata": {},
   "source": [
    "### Plot radius distro and some examples"
   ]
  },
  {
   "cell_type": "code",
   "execution_count": null,
   "id": "dcd2a448",
   "metadata": {},
   "outputs": [],
   "source": [
    "fig = plt.figure(figsize=(6,6),dpi=100)\n",
    "satcat[\"RCS\"].hist(log=True,bins=100)\n",
    "# plt.xscale(\"log\")\n",
    "plt.xlabel(\"RCS\");\n",
    "plt.ylabel(\"Count\");"
   ]
  },
  {
   "cell_type": "code",
   "execution_count": null,
   "id": "a24706b2",
   "metadata": {},
   "outputs": [],
   "source": [
    "sampled_rcs = np.array(sampled_radii) * np.array(sampled_radii) *np.pi\n",
    "fig = plt.figure(figsize=(6,6),dpi=100)\n",
    "plt.hist(sampled_rcs,log=True,bins=100);\n",
    "# plt.xscale(\"log\")\n",
    "plt.xlabel(\"RCS\");\n",
    "plt.ylabel(\"Count\");"
   ]
  },
  {
   "cell_type": "code",
   "execution_count": null,
   "id": "288102ec",
   "metadata": {},
   "outputs": [],
   "source": [
    "hist, bins, _ = plt.hist(sampled_radii, bins=100);\n",
    "fig = plt.figure(figsize=(6,6),dpi=100)\n",
    "logbins = np.logspace(np.log10(bins[0]),np.log10(bins[-1]),len(bins))\n",
    "plt.hist(sampled_radii,log=True,bins=logbins);\n",
    "plt.xscale(\"log\")\n",
    "plt.xlabel(\"Radius [m]\");\n",
    "plt.ylabel(\"Count\");\n",
    "plt.xticks([0.005,0.1,1.0,10]);\n",
    "print(\"Maximum sampled length \",np.max(sampled_radii))"
   ]
  },
  {
   "cell_type": "code",
   "execution_count": null,
   "id": "9f3f3a16",
   "metadata": {},
   "outputs": [],
   "source": [
    "fig = plt.figure(figsize=(6,6),dpi=100)\n",
    "ax = plt.axes(projection='3d');\n",
    "for i in range (10):\n",
    "    pk.orbit_plots.plot_planet(sats_with_info[i][\"PLANET\"],axes=ax)"
   ]
  },
  {
   "cell_type": "markdown",
   "id": "dbd01df1",
   "metadata": {},
   "source": [
    "## 4. Propagate all objects to t and discard too low and high ones"
   ]
  },
  {
   "cell_type": "code",
   "execution_count": null,
   "id": "3106348d",
   "metadata": {},
   "outputs": [],
   "source": [
    "objects = []\n",
    "altitudes = []\n",
    "count_too_low = 0\n",
    "count_too_high = 0\n",
    "count_decayed = 0\n",
    "for sat in sats_with_info:\n",
    "    try:\n",
    "        planet = sat[\"PLANET\"]\n",
    "        pos,v = planet.eph(starting_t)\n",
    "        \n",
    "        # convert to km and numpy\n",
    "        pos = np.asarray(pos) / 1000.0 \n",
    "        v = np.asarray(v) / 1000.0\n",
    "        sma,_,_,_,_,_ = pk.ic2par(pos * 1000,v *1000,mu=pk.MU_EARTH)\n",
    "        \n",
    "        altitude = np.linalg.norm(pos)\n",
    "        if altitude < lower_cutoff_in_km:\n",
    "            count_too_low += 1\n",
    "            continue\n",
    "        if sma / 1000. > higher_cutoff_in_km or altitude > higher_cutoff_in_km:\n",
    "            count_too_high += 1\n",
    "            continue\n",
    "        \n",
    "        altitudes.append(altitude)\n",
    "        \n",
    "        objects.append({\"COSPAR_ID\": sat[\"COSPAR_ID\"],\n",
    "                        \"NAME\": sat[\"OBJECT_NAME\"],\n",
    "                        \"BSTAR[1 / Earth Radius]\": sat[\"BSTAR\"],\n",
    "                        \"R\": tuple(pos),\n",
    "                        \"V\": tuple(v),\n",
    "                        \"M[kg]\": sat[\"MASS\"],\n",
    "                        \"RADIUS[m]\": sat[\"RADIUS\"],\n",
    "                        \"TYPE\": sat[\"TYPE\"]\n",
    "                       })\n",
    "    except RuntimeError as e:\n",
    "        count_decayed += 1\n",
    "        print(e, \" propagating \",planet.name)\n",
    "        \n",
    "print(\"Successfully propagated \",len(objects),\" objects.\")\n",
    "print(count_decayed, \"decayed.\")\n",
    "print(count_too_low,\" had a too small altitude\")\n",
    "print(count_too_high,\" had a too high altitude\")"
   ]
  },
  {
   "cell_type": "markdown",
   "id": "5c77e85b",
   "metadata": {},
   "source": [
    "## 5. Plot, clean up and store results"
   ]
  },
  {
   "cell_type": "code",
   "execution_count": null,
   "id": "097aa3d5",
   "metadata": {},
   "outputs": [],
   "source": [
    "altitudes = np.array(altitudes)-6371\n",
    "print(min(altitudes))\n",
    "print(max(altitudes))"
   ]
  },
  {
   "cell_type": "code",
   "execution_count": null,
   "id": "18ba609b",
   "metadata": {},
   "outputs": [],
   "source": [
    "fig = plt.figure(figsize=(6,6),dpi=100)\n",
    "plt.hist(altitudes,bins=100);\n",
    "plt.xlabel(\"Altitude [km]\")\n",
    "plt.ylabel(\"Counts\")\n",
    "plt.yscale(\"log\")"
   ]
  },
  {
   "cell_type": "code",
   "execution_count": null,
   "id": "8aae75ff",
   "metadata": {},
   "outputs": [],
   "source": [
    "fig = plt.figure(figsize=(6,6),dpi=100)\n",
    "ax = plt.axes(projection='3d');\n",
    "\n",
    "positions = np.array([obj[\"R\"] for obj in objects])\n",
    "velocities = np.array([obj[\"V\"] for obj in objects])\n",
    "\n",
    "ax.scatter(positions[:,0],positions[:,1],positions[:,2],\".\",alpha=0.25)"
   ]
  },
  {
   "cell_type": "code",
   "execution_count": null,
   "id": "dd111eb3",
   "metadata": {},
   "outputs": [],
   "source": [
    "# Convert to pandas dataframe and drop ISS and any duplicate entries.\n",
    "df = pd.DataFrame(objects)\n",
    "df = df.drop(np.argmax(df[\"NAME\"] == \"ISS (ZARYA)\"))\n",
    "df = df.drop(df[df.NAME.str.startswith('STARLINK')].index)\n",
    "df = df.drop(df[df.NAME.str.startswith('ONEWEB')].index)\n",
    "df = df.drop_duplicates(subset=['R'])\n",
    "df\n",
    "df = df.reset_index(drop=True)\n",
    "df.index.name = \"ID\""
   ]
  },
  {
   "cell_type": "code",
   "execution_count": null,
   "id": "75cf980c",
   "metadata": {},
   "outputs": [],
   "source": [
    "# new df from the column of lists\n",
    "split_df = pd.DataFrame(df['R'].tolist(), columns=['r_x[km]', 'r_y[km]', 'r_z[km]'])\n",
    "df = pd.concat([df, split_df], axis=1,)\n",
    "\n",
    "split_df_v = pd.DataFrame(df['V'].tolist(), columns=['v_x[km]', 'v_y[km]', 'v_z[km]'])\n",
    "df = pd.concat([df, split_df_v], axis=1)\n",
    "\n",
    "df = df.drop(columns=\"R\")\n",
    "df = df.drop(columns=\"V\")\n",
    "\n",
    "# display df\n",
    "df"
   ]
  },
  {
   "cell_type": "code",
   "execution_count": null,
   "id": "055b4b52",
   "metadata": {},
   "outputs": [],
   "source": [
    "# Write to csv\n",
    "df.to_csv(\"../data/initial_population.csv\")"
   ]
  },
  {
   "cell_type": "code",
   "execution_count": null,
   "id": "b0e5d7d2",
   "metadata": {},
   "outputs": [],
   "source": []
  }
 ],
 "metadata": {
  "kernelspec": {
   "display_name": "Python 3 (ipykernel)",
   "language": "python",
   "name": "python3"
  },
  "language_info": {
   "codemirror_mode": {
    "name": "ipython",
    "version": 3
   },
   "file_extension": ".py",
   "mimetype": "text/x-python",
   "name": "python",
   "nbconvert_exporter": "python",
   "pygments_lexer": "ipython3",
   "version": "3.9.7"
  }
 },
 "nbformat": 4,
 "nbformat_minor": 5
}
