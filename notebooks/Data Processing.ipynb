{
 "cells": [
  {
   "cell_type": "code",
   "execution_count": null,
   "id": "0a48e2c9",
   "metadata": {},
   "outputs": [],
   "source": [
    "### Imports\n",
    "%load_ext autoreload\n",
    "%autoreload 2\n",
    "\n",
    "# Append main folder\n",
    "import sys\n",
    "sys.path.append(\"../\")\n",
    "\n",
    "import pykep as pk\n",
    "import numpy as np\n",
    "import matplotlib.pyplot as plt\n",
    "\n",
    "starting_t = pk.epoch_from_string('2022-01-01 00:00:00.000')\n",
    "lower_cutoff_in_km = 6371 + 200 # Earth radius + ...\n",
    "higher_cutoff_in_km = 6371 + 2000"
   ]
  },
  {
   "cell_type": "markdown",
   "id": "de523087",
   "metadata": {},
   "source": [
    "## Read TLE data"
   ]
  },
  {
   "cell_type": "code",
   "execution_count": null,
   "id": "cf98e917",
   "metadata": {},
   "outputs": [],
   "source": [
    "planet_list = pk.util.read_tle(\"../data/tle.txt\")\n",
    "#satcat = pykep.util.read_satcat(\"../data/satcat.txt\")\n",
    "print(\"Loaded \",len(planet_list),\" planets.\")"
   ]
  },
  {
   "cell_type": "code",
   "execution_count": null,
   "id": "6bcc3766",
   "metadata": {},
   "outputs": [],
   "source": [
    "print(planet_list[13577])\n",
    "pk.orbit_plots.plot_planet(planet_list[13577])"
   ]
  },
  {
   "cell_type": "code",
   "execution_count": null,
   "id": "ab7ed639",
   "metadata": {},
   "outputs": [],
   "source": []
  },
  {
   "cell_type": "code",
   "execution_count": null,
   "id": "d0abaacd",
   "metadata": {},
   "outputs": [],
   "source": [
    "r,v = planet_list[13577].eph(0)\n",
    "pk.ic2par(r,v,planet_list[13577].mu_central_body)"
   ]
  },
  {
   "cell_type": "markdown",
   "id": "8cd629fd",
   "metadata": {},
   "source": [
    "## Plot some examples"
   ]
  },
  {
   "cell_type": "code",
   "execution_count": null,
   "id": "9f3f3a16",
   "metadata": {},
   "outputs": [],
   "source": [
    "fig = plt.figure(figsize=(6,6),dpi=100)\n",
    "ax = plt.axes(projection='3d');\n",
    "for i in range (10):\n",
    "    pk.orbit_plots.plot_planet(planet_list[i],axes=ax)"
   ]
  },
  {
   "cell_type": "markdown",
   "id": "dbd01df1",
   "metadata": {},
   "source": [
    "## Propagate all objects to t and discard too low and high ones"
   ]
  },
  {
   "cell_type": "code",
   "execution_count": null,
   "id": "aec0e842",
   "metadata": {},
   "outputs": [],
   "source": [
    "for planet in planet_list[:10]:\n",
    "    pos,v = planet.eph(starting_t)\n",
    "    a,e,i,W,w,E = pk.ic2par(pos,v,mu=pk.MU_EARTH)\n",
    "    if e > 0.1 or a > higher_cutoff_in_km:\n",
    "        print(planet.name,a / 1000,e)"
   ]
  },
  {
   "cell_type": "code",
   "execution_count": null,
   "id": "3106348d",
   "metadata": {},
   "outputs": [],
   "source": [
    "objects = []\n",
    "count_too_low = 0\n",
    "count_too_high = 0\n",
    "for planet in planet_list:\n",
    "    try:\n",
    "        pos,v = planet.eph(starting_t)\n",
    "        \n",
    "        # convert to km and numpy\n",
    "        pos = np.asarray(pos) / 1000.0 \n",
    "        v = np.asarray(v) / 1000.0\n",
    "        altitude = np.linalg.norm(pos)\n",
    "        if altitude < lower_cutoff_in_km:\n",
    "            count_too_low += 1\n",
    "            continue\n",
    "        if altitude > higher_cutoff_in_km:\n",
    "            count_too_high += 1\n",
    "            continue\n",
    "        \n",
    "        objects.append((pos,v))\n",
    "    except RuntimeError as e:\n",
    "        print(e, \" propagating \",planet.name)\n",
    "        \n",
    "print(\"Successfully propagated \",len(objects),\" objects.\")\n",
    "print(count_too_low,\" had a too small altitude\")\n",
    "print(count_too_high,\" had a too high altitude\")"
   ]
  },
  {
   "cell_type": "markdown",
   "id": "5c77e85b",
   "metadata": {},
   "source": [
    "## Plot and store results"
   ]
  },
  {
   "cell_type": "code",
   "execution_count": null,
   "id": "09ca4604",
   "metadata": {},
   "outputs": [],
   "source": [
    "objects[13577]"
   ]
  },
  {
   "cell_type": "code",
   "execution_count": null,
   "id": "8aae75ff",
   "metadata": {},
   "outputs": [],
   "source": [
    "fig = plt.figure(figsize=(6,6),dpi=100)\n",
    "ax = plt.axes(projection='3d');\n",
    "\n",
    "positions = np.array([pos for pos,_ in objects])\n",
    "velocities = np.array([v for _,v in objects])\n",
    "\n",
    "ax.scatter(positions[:,0],positions[:,1],positions[:,2],\".\",alpha=0.25)"
   ]
  },
  {
   "cell_type": "code",
   "execution_count": null,
   "id": "dd111eb3",
   "metadata": {},
   "outputs": [],
   "source": [
    "np.savetxt(\"../data/pos.csv\",positions,delimiter=\",\")\n",
    "np.savetxt(\"../data/v.csv\",velocities,delimiter=\",\")"
   ]
  },
  {
   "cell_type": "markdown",
   "id": "d23e9dba",
   "metadata": {},
   "source": [
    "# Propagate test set by some time"
   ]
  },
  {
   "cell_type": "code",
   "execution_count": null,
   "id": "cf6eb7d5",
   "metadata": {},
   "outputs": [],
   "source": [
    "# Load test data\n",
    "pos = np.loadtxt(\"../data/pos_test.csv\",delimiter=\",\")\n",
    "v = np.loadtxt(\"../data/v_test.csv\",delimiter=\",\")"
   ]
  },
  {
   "cell_type": "code",
   "execution_count": null,
   "id": "d16a0034",
   "metadata": {},
   "outputs": [],
   "source": [
    "# Propagate by t seconds\n",
    "t = 10\n",
    "objects = []\n",
    "t_end = pk.epoch(starting_t.mjd + t * pk.SEC2DAY,\"mjd\")\n",
    "for pos_i,v_i in zip(pos,v):\n",
    "    try:\n",
    "        p = pk.planet.keplerian(starting_t,pos_i * 1000.0,v_i * 1000.0,pk.MU_EARTH,1.,1.,1.)\n",
    "        r,v = p.eph(t_end)\n",
    "        \n",
    "        objects.append((np.array(r) / 1000., np.array(v) / 1000.))\n",
    "        \n",
    "    except RuntimeError as e:\n",
    "        print(e, \" propagating \",p.name)"
   ]
  },
  {
   "cell_type": "code",
   "execution_count": null,
   "id": "6db2f74d",
   "metadata": {},
   "outputs": [],
   "source": [
    "# unpack\n",
    "positions = np.array([r for r,_ in objects])\n",
    "velocities = np.array([v_i for _,v_i in objects])"
   ]
  },
  {
   "cell_type": "code",
   "execution_count": null,
   "id": "ce544999",
   "metadata": {},
   "outputs": [],
   "source": [
    "#look at them\n",
    "pos"
   ]
  },
  {
   "cell_type": "code",
   "execution_count": null,
   "id": "6d303ca5",
   "metadata": {},
   "outputs": [],
   "source": [
    "positions"
   ]
  },
  {
   "cell_type": "code",
   "execution_count": null,
   "id": "4c65416f",
   "metadata": {},
   "outputs": [],
   "source": [
    "# Save\n",
    "np.savetxt(\"../data/pos_test_10s.csv\",positions,delimiter=\",\")\n",
    "np.savetxt(\"../data/v_test_10s.csv\",velocities,delimiter=\",\")"
   ]
  }
 ],
 "metadata": {
  "kernelspec": {
   "display_name": "Python 3 (ipykernel)",
   "language": "python",
   "name": "python3"
  },
  "language_info": {
   "codemirror_mode": {
    "name": "ipython",
    "version": 3
   },
   "file_extension": ".py",
   "mimetype": "text/x-python",
   "name": "python",
   "nbconvert_exporter": "python",
   "pygments_lexer": "ipython3",
   "version": "3.9.6"
  }
 },
 "nbformat": 4,
 "nbformat_minor": 5
}
