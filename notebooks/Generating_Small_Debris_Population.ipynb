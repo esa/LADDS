{
 "cells": [
  {
   "cell_type": "markdown",
   "id": "b4384097",
   "metadata": {},
   "source": [
    "This notebooks uses data from [ESA's MASTER tool](https://sdup.esoc.esa.int/) to create a population of small debris fragments between 1 and 10 cm."
   ]
  },
  {
   "cell_type": "code",
   "execution_count": null,
   "id": "d7565d79",
   "metadata": {},
   "outputs": [],
   "source": [
    "### Imports\n",
    "%load_ext autoreload\n",
    "%autoreload 2\n",
    "\n",
    "# Append main folder\n",
    "import sys\n",
    "sys.path.append(\"../\")\n",
    "\n",
    "import pykep as pk\n",
    "import numpy as np\n",
    "import matplotlib.pyplot as plt\n",
    "import pandas as pd\n",
    "from tqdm import tqdm \n",
    "from sklearn.neighbors import KernelDensity\n",
    "\n",
    "starting_t = pk.epoch_from_string('2022-01-01 00:00:00.000')\n",
    "np.random.seed(42)\n",
    "earth_radius = 6371\n",
    "sats = pd.read_csv(\"../data/initial_population.csv\")\n",
    "\n",
    "# Utility functions\n",
    "def get_shell_volume(lower_altitude,upper_altitude):\n",
    "    # Subtraction of sphere volumes to get shell volume\n",
    "    return 4/3 * np.pi * ((earth_radius+upper_altitude)**3-(earth_radius+lower_altitude)**3)\n",
    "\n",
    "def get_num_of_parts_in_shell(lower_altitude,upper_altitude,density):\n",
    "    # Shell volume * density\n",
    "    volume = get_shell_volume(lower_altitude,upper_altitude)\n",
    "    nr = volume * density\n",
    "#     print(volume,density,nr)\n",
    "    return nr"
   ]
  },
  {
   "cell_type": "markdown",
   "id": "e4167304",
   "metadata": {},
   "source": [
    "# Get estimated number of debris particles depending on altitude and size"
   ]
  },
  {
   "cell_type": "code",
   "execution_count": null,
   "id": "aaf1df40",
   "metadata": {},
   "outputs": [],
   "source": [
    "# Read in density data for 1-2.5cm, 2.5-5cm , ...\n",
    "# Note it is expected that each file has densities for the same altitudes, this is not checked.\n",
    "data_1cm = pd.read_csv(\"../data/MASTER_small_debris/1-2.5cm.csv\")\n",
    "data_2cm = pd.read_csv(\"../data/MASTER_small_debris/2.5-5cm.csv\")\n",
    "data_5cm = pd.read_csv(\"../data/MASTER_small_debris/5-7.5cm.csv\")\n",
    "data_7cm = pd.read_csv(\"../data/MASTER_small_debris/7.5-10cm.csv\")"
   ]
  },
  {
   "cell_type": "code",
   "execution_count": null,
   "id": "a1af951c",
   "metadata": {},
   "outputs": [],
   "source": [
    "data_1cm"
   ]
  },
  {
   "cell_type": "code",
   "execution_count": null,
   "id": "9a1447a2",
   "metadata": {},
   "outputs": [],
   "source": [
    "num_debris_per_size = {} # will hold counts per altitude & size\n",
    "sizes = [[1,2.5],[2.5,5.],[5,7.5],[7.5,10.0]]\n",
    "datasets = [data_1cm,data_2cm,data_5cm,data_7cm]\n",
    "shell_lower_alt = data_1cm[\"Altitude\"].values[:-1]\n",
    "shell_upper_alt = data_1cm[\"Altitude\"].values[1:]\n",
    "total_num_of_particles = 0"
   ]
  },
  {
   "cell_type": "code",
   "execution_count": null,
   "id": "3d2e758d",
   "metadata": {},
   "outputs": [],
   "source": [
    "for size,data in zip(sizes,datasets):\n",
    "    # Get bounds of each shell in which we will investigate density\n",
    "    num_debris_per_altitude = []\n",
    "    densities = data[\"Density\"].values\n",
    "    for lower,upper,density in zip(shell_lower_alt,shell_upper_alt,densities):\n",
    "        num = get_num_of_parts_in_shell(lower,upper,density)\n",
    "        total_num_of_particles += num\n",
    "        num_debris_per_altitude.append(num)\n",
    "    num_debris_per_size[size[0]] = num_debris_per_altitude\n",
    "print(\"In total expecting \",total_num_of_particles, \" debris particles.\")"
   ]
  },
  {
   "cell_type": "code",
   "execution_count": null,
   "id": "57902a43",
   "metadata": {},
   "outputs": [],
   "source": [
    "fig = plt.figure(figsize=(10,5),dpi=150)\n",
    "fig.patch.set_facecolor('white')\n",
    "names = []\n",
    "for s,nums in num_debris_per_size.items():\n",
    "    plt.plot(shell_lower_alt,nums)\n",
    "    names.append(str(s) + \"cm\")\n",
    "plt.legend(names)\n",
    "plt.xlabel(\"Altitude [km]\")\n",
    "plt.ylabel(\"# of particles\")"
   ]
  },
  {
   "cell_type": "markdown",
   "id": "d0ce176f",
   "metadata": {},
   "source": [
    "# Sample from above distribution (+ inclination & eccentricity from base population)"
   ]
  },
  {
   "cell_type": "markdown",
   "id": "90a8bba1",
   "metadata": {},
   "source": [
    "## Collect inclination & eccentricity of base pop"
   ]
  },
  {
   "cell_type": "code",
   "execution_count": null,
   "id": "ed420204",
   "metadata": {},
   "outputs": [],
   "source": [
    "incl_base_pop = []\n",
    "ecc_base_pop = []\n",
    "for _,s in sats.iterrows():\n",
    "    r = np.array([s[\"r_x[km]\"],s[\"r_y[km]\"],s[\"r_z[km]\"]]) * 1000.\n",
    "    v =  np.array([s[\"v_x[km]\"],s[\"v_y[km]\"],s[\"v_z[km]\"]]) * 1000.\n",
    "    _,e,i,_,_,_ = pk.ic2par(r,v,mu=pk.MU_EARTH)\n",
    "    incl_base_pop.append(i)\n",
    "    ecc_base_pop.append(e)"
   ]
  },
  {
   "cell_type": "markdown",
   "id": "b8d31659",
   "metadata": {},
   "source": [
    "## Use kernel density estimators to sample from base pop distributions of i and e"
   ]
  },
  {
   "cell_type": "code",
   "execution_count": null,
   "id": "95cf0f20",
   "metadata": {},
   "outputs": [],
   "source": [
    "kde_incl = KernelDensity(kernel='gaussian',bandwidth=5e-4).fit(np.asarray(incl_base_pop).reshape(-1, 1))\n",
    "kde_ecc = KernelDensity(kernel='gaussian',bandwidth=5e-4).fit(np.asarray(ecc_base_pop).reshape(-1, 1))"
   ]
  },
  {
   "cell_type": "code",
   "execution_count": null,
   "id": "1ff80e70",
   "metadata": {},
   "outputs": [],
   "source": [
    "test_samples_incl = kde_incl.sample(len(sats))\n",
    "test_samples_ecc = kde_ecc.sample(len(sats))\n",
    "N_bins = 100\n",
    "fig = plt.figure(figsize=(5,2),dpi=150)\n",
    "fig.patch.set_facecolor('white')\n",
    "plt.hist(incl_base_pop,bins=N_bins)\n",
    "plt.hist(test_samples_incl,bins=N_bins)\n",
    "plt.xlabel(\"Inclination[rad]\")\n",
    "plt.ylabel(\"Frequency\")\n",
    "plt.legend([\"Original\",\"KDE\"])\n",
    "fig = plt.figure(figsize=(5,2),dpi=150)\n",
    "fig.patch.set_facecolor('white')\n",
    "plt.hist(ecc_base_pop,bins=N_bins)\n",
    "plt.hist(test_samples_ecc,bins=N_bins)\n",
    "plt.xlabel(\"Eccentricity[rad]\")\n",
    "plt.ylabel(\"Frequency\")\n",
    "plt.legend([\"Original\",\"KDE\"])"
   ]
  },
  {
   "cell_type": "code",
   "execution_count": null,
   "id": "6a82f6aa",
   "metadata": {},
   "outputs": [],
   "source": [
    "def sample_incl():\n",
    "    return np.maximum(0,kde_incl.sample(1)[0][0])\n",
    "\n",
    "def sample_ecc():\n",
    "    return np.maximum(0,kde_ecc.sample(1)[0][0])"
   ]
  },
  {
   "cell_type": "markdown",
   "id": "2da0a21e",
   "metadata": {},
   "source": [
    "## Create our debris population"
   ]
  },
  {
   "cell_type": "code",
   "execution_count": null,
   "id": "b4643fa9",
   "metadata": {
    "scrolled": false
   },
   "outputs": [],
   "source": [
    "population = []\n",
    "debris_index = 0\n",
    "for (_,nums),size in zip(num_debris_per_size.items(),sizes):\n",
    "    for altitude,alt_upper_bound,N_at_altitude in tqdm(zip(shell_lower_alt,shell_upper_alt,nums),total=len(shell_lower_alt)):\n",
    "        \n",
    "        N_at_altitude = int(np.round(N_at_altitude))\n",
    "        if N_at_altitude == 0:\n",
    "            continue\n",
    "        # Sampling half size for radius and converting to m\n",
    "        sampled_radii = np.random.uniform(low=size[0] / 2.0 / 100.0, high=size[1] / 2.0 / 100.0,size=(N_at_altitude))\n",
    "        \n",
    "        # Sample individual satellites\n",
    "        for idx in range(N_at_altitude):\n",
    "            n = \"DEBRIS_\"+str(size[0])+\"-\"+str(size[1])+\"_\"+str(altitude)+\"_\"+str(debris_index)\n",
    "            sat = {\"COSPAR_ID\": n,\"NAME\": n, \"TYPE\": \"passive\"}\n",
    "            sat[\"RADIUS[m]\"] = sampled_radii[idx]\n",
    "            if sat[\"RADIUS[m]\"] > 0.01:\n",
    "                sat[\"M[kg]\"] = 4 / 3 * np.pi *(sat[\"RADIUS[m]\"])**3 * 92.937 * (sat[\"RADIUS[m]\"])**(-0.74)\n",
    "            else:\n",
    "                sat[\"M[kg]\"] = 4 / 3 * np.pi *(sat[\"RADIUS[m]\"])**3 * 2698.9\n",
    "                \n",
    "            # Approximate BSTAR as p0 * C_D * 2*pi*r / (2 * mass * earth_radius[m])\n",
    "            sat[\"BSTAR[1 / Earth Radius]\"] = (0.1570 * 2.2 * np.pi * sat[\"RADIUS[m]\"]**2) / (2*sat[\"M[kg]\"]*earth_radius)\n",
    "            \n",
    "            # Sample orbital elements\n",
    "            sampled_sma = earth_radius*1000.0 + np.random.uniform(low=altitude*1000,high=alt_upper_bound*1000)\n",
    "            w = np.random.uniform(0, 2*np.pi)\n",
    "            W = np.random.uniform(0, 2*np.pi)\n",
    "            E = np.random.uniform(0, 2*np.pi)\n",
    "            el = [sampled_sma,sample_ecc(),sample_incl(),W,w,E]\n",
    "            planet = pk.planet.keplerian(starting_t, el, pk.MU_EARTH, 1.0, 1.0, 1.0,f\"deb_{debris_index}\")\n",
    "            pos,v = planet.eph(starting_t)\n",
    "            sat[\"r_x[km]\"] = pos[0] / 1000.0\n",
    "            sat[\"r_y[km]\"] = pos[1] / 1000.0\n",
    "            sat[\"r_z[km]\"] = pos[2] / 1000.0\n",
    "            sat[\"v_x[km]\"] = v[0] / 1000.0\n",
    "            sat[\"v_y[km]\"] = v[1] / 1000.0\n",
    "            sat[\"v_z[km]\"] = v[2] / 1000.0\n",
    "            population.append(sat)\n",
    "            debris_index += 1"
   ]
  },
  {
   "cell_type": "code",
   "execution_count": null,
   "id": "87c17d21",
   "metadata": {},
   "outputs": [],
   "source": [
    "debris_v = np.array([np.sqrt(p[\"v_x[km]\"]**2+p[\"v_y[km]\"]**2+p[\"v_z[km]\"]**2) for p in population])\n",
    "sat_v = np.array([np.sqrt(p[\"v_x[km]\"]**2+p[\"v_y[km]\"]**2+p[\"v_z[km]\"]**2) for _,p in sats.iterrows()])"
   ]
  },
  {
   "cell_type": "markdown",
   "id": "b86b1325",
   "metadata": {},
   "source": [
    "## Plot some data on it"
   ]
  },
  {
   "cell_type": "code",
   "execution_count": null,
   "id": "e2c9d499",
   "metadata": {},
   "outputs": [],
   "source": [
    "fig = plt.figure(figsize=(5,4),dpi=150)\n",
    "fig.patch.set_facecolor('white')\n",
    "plt.hist(debris_v,bins=N_bins,density=True,alpha=0.5)\n",
    "plt.hist(sat_v,bins=N_bins,density=True,alpha=0.5)\n",
    "plt.xlabel(\"|v|[km]\")\n",
    "plt.ylabel(\"Relative Density\")\n",
    "plt.legend([\"Debris\",\"Base Pop\"])"
   ]
  },
  {
   "cell_type": "code",
   "execution_count": null,
   "id": "18d1ba27",
   "metadata": {},
   "outputs": [],
   "source": [
    "debris_r = np.array([p[\"RADIUS[m]\"] for p in population])\n",
    "sat_r = np.array([p[\"RADIUS[m]\"]  for _,p in sats.iterrows()])\n",
    "fig = plt.figure(figsize=(5,4),dpi=150)\n",
    "fig.patch.set_facecolor('white')\n",
    "plt.hist(debris_r,bins=N_bins,density=True,alpha=0.5)\n",
    "plt.hist(sat_r,bins=N_bins,density=True,alpha=0.5)\n",
    "plt.xscale(\"log\")\n",
    "plt.xlabel(\"Radius[m]\")\n",
    "plt.ylabel(\"Relative Density\")\n",
    "plt.legend([\"Debris\",\"Base Pop\"])"
   ]
  },
  {
   "cell_type": "code",
   "execution_count": null,
   "id": "70d21899",
   "metadata": {},
   "outputs": [],
   "source": [
    "debris_positions = np.array([[p[\"r_x[km]\"],p[\"r_y[km]\"],p[\"r_z[km]\"]] for p in population])\n",
    "sat_positions = np.array([[p[\"r_x[km]\"],p[\"r_y[km]\"],p[\"r_z[km]\"]] for _,p in sats.iterrows()])\n",
    "\n",
    "\n",
    "fig = plt.figure(figsize=(10,10),dpi=150)\n",
    "fig.patch.set_facecolor('white')\n",
    "ax = plt.axes(projection='3d');\n",
    "ax.set_xlabel(\"X[km]\")\n",
    "ax.set_ylabel(\"Y[km]\")\n",
    "ax.set_zlabel(\"Z[km]\")\n",
    "\n",
    "u, v = np.mgrid[0:2*np.pi:40j, 0:np.pi:40j]\n",
    "x = np.cos(u)*np.sin(v) * 6371\n",
    "y = np.sin(u)*np.sin(v) * 6371\n",
    "z = np.cos(v) * 6371\n",
    "ax.plot_surface(x, y, z, color=\"blue\",alpha=0.5)\n",
    "ax.scatter(debris_positions[:,0],debris_positions[:,1],debris_positions[:,2],\".\",s=1,alpha=0.025,color=\"black\")\n",
    "ax.scatter(sat_positions[:,0],sat_positions[:,1],sat_positions[:,2],\".\",s=1,alpha=0.5,color=\"red\")"
   ]
  },
  {
   "cell_type": "code",
   "execution_count": null,
   "id": "d6419e21",
   "metadata": {},
   "outputs": [],
   "source": [
    "df = pd.DataFrame(population)"
   ]
  },
  {
   "cell_type": "code",
   "execution_count": null,
   "id": "534aff04",
   "metadata": {},
   "outputs": [],
   "source": [
    "df[\"BSTAR[1 / Earth Radius]\"].hist()"
   ]
  },
  {
   "cell_type": "markdown",
   "id": "d6bef7e1",
   "metadata": {},
   "source": [
    "## Load base population and append to it"
   ]
  },
  {
   "cell_type": "code",
   "execution_count": null,
   "id": "9d43ae0d",
   "metadata": {},
   "outputs": [],
   "source": [
    "base_df = pd.read_csv(\"../data/initial_population.csv\")\n",
    "base_df = base_df.drop(columns=\"Unnamed: 0\")"
   ]
  },
  {
   "cell_type": "code",
   "execution_count": null,
   "id": "ff305800",
   "metadata": {},
   "outputs": [],
   "source": [
    "new_pop = pd.concat([base_df,df])"
   ]
  },
  {
   "cell_type": "code",
   "execution_count": null,
   "id": "98dc10af",
   "metadata": {},
   "outputs": [],
   "source": [
    "new_pop"
   ]
  },
  {
   "cell_type": "code",
   "execution_count": null,
   "id": "5a376076",
   "metadata": {},
   "outputs": [],
   "source": [
    "new_pop.to_csv(\"../data/initial_population_and_1cm_debris.csv\")"
   ]
  }
 ],
 "metadata": {
  "kernelspec": {
   "display_name": "Python 3 (ipykernel)",
   "language": "python",
   "name": "python3"
  },
  "language_info": {
   "codemirror_mode": {
    "name": "ipython",
    "version": 3
   },
   "file_extension": ".py",
   "mimetype": "text/x-python",
   "name": "python",
   "nbconvert_exporter": "python",
   "pygments_lexer": "ipython3",
   "version": "3.9.7"
  }
 },
 "nbformat": 4,
 "nbformat_minor": 5
}
