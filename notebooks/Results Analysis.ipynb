{
 "cells": [
  {
   "cell_type": "code",
   "execution_count": null,
   "id": "b5fe1f2e",
   "metadata": {},
   "outputs": [],
   "source": [
    "### Imports\n",
    "%load_ext autoreload\n",
    "%autoreload 2\n",
    "\n",
    "# Append main folder\n",
    "import sys\n",
    "sys.path.append(\"../\")\n",
    "\n",
    "from glob import glob\n",
    "\n",
    "from tqdm import tqdm\n",
    "import pykep as pk\n",
    "import numpy as np\n",
    "import matplotlib.pyplot as plt\n",
    "import pandas as pd\n",
    "\n",
    "from sklearn.neighbors import NearestNeighbors\n",
    "\n",
    "from vtk import vtkXMLUnstructuredGridReader\n",
    "from vtk.util import numpy_support as VN\n",
    "\n",
    "from mpl_toolkits import mplot3d\n",
    "%matplotlib notebook\n",
    "\n",
    "dt = 10 #timestep of the inspected simulations, affects time in plots\n",
    "iterations = 3153600 # for time computation as well\n",
    "\n",
    "# PK epochs of simulation time\n",
    "starting_t = pk.epoch_from_string('2022-01-01 00:00:00.000')\n",
    "end_t = pk.epoch(starting_t.mjd2000 + iterations * dt * pk.SEC2DAY)\n",
    "total_days = end_t.mjd - starting_t.mjd"
   ]
  },
  {
   "cell_type": "code",
   "execution_count": null,
   "id": "ba281ee2",
   "metadata": {},
   "outputs": [],
   "source": [
    "# Load the original dataset\n",
    "init_r = np.loadtxt(\"../data/pos.csv\",delimiter=\",\")\n",
    "init_v = np.loadtxt(\"../data/v.csv\",delimiter=\",\")\n",
    "init_planets = []\n",
    "for r,v in zip(init_r,init_v):\n",
    "    init_planets.append(pk.planet.keplerian(starting_t,r * 1000.0,v * 1000.0,pk.MU_EARTH,1.,1.,1.))"
   ]
  },
  {
   "cell_type": "code",
   "execution_count": null,
   "id": "3c6adf1e",
   "metadata": {},
   "outputs": [],
   "source": [
    "# Load some simulation results\n",
    "# files = glob(\"../results/1y_kep_thresholds_test/*.vtu\")\n",
    "files = glob(\"../results/1y_all_thresholds_test/*.vtu\")"
   ]
  },
  {
   "cell_type": "code",
   "execution_count": null,
   "id": "bf9e8f72",
   "metadata": {},
   "outputs": [],
   "source": [
    "rs,vs = [],[] #will hold r,v for whole simulation\n",
    "\n",
    "# load vtks\n",
    "for file in tqdm(files):\n",
    "    reader = vtkXMLUnstructuredGridReader()\n",
    "    reader.SetFileName(file)\n",
    "    reader.Update()\n",
    "\n",
    "    data = reader.GetOutput()\n",
    "\n",
    "    v = VN.vtk_to_numpy(data.GetPointData().GetArray('velocity')).astype(\"double\")\n",
    "    r = VN.vtk_to_numpy(data.GetPoints().GetData()).astype(\"double\")\n",
    "    rs.append(r)\n",
    "    vs.append(v)"
   ]
  },
  {
   "cell_type": "code",
   "execution_count": null,
   "id": "da666df0",
   "metadata": {},
   "outputs": [],
   "source": [
    "# Threshold for conjunction tracking as used in simulation\n",
    "thresholds = [1,5,10,20,25,50,75,100,250,500]"
   ]
  },
  {
   "cell_type": "code",
   "execution_count": null,
   "id": "20fe73f7",
   "metadata": {},
   "outputs": [],
   "source": [
    "# Load the file tracking the conjunctions\n",
    "# conj = pd.read_csv(\"../results/1y_kep_thresholds_test/conjunctionCounts.csv\",names=thresholds)\n",
    "conj = pd.read_csv(\"../results/1y_all_thresholds_test/conjunctionCounts.csv\",names=thresholds)"
   ]
  },
  {
   "cell_type": "code",
   "execution_count": null,
   "id": "a9628720",
   "metadata": {},
   "outputs": [],
   "source": [
    "last_it = iterations #last it to look at\n",
    "subsample = 100 # only sample every n-th iteration in plot\n",
    "\n",
    "fig = plt.figure(figsize=(8,4),dpi=150)\n",
    "fig.patch.set_facecolor('white')\n",
    "\n",
    "# Time axis\n",
    "t = np.linspace(0,end_t.mjd - starting_t.mjd,iterations)\n",
    "\n",
    "# Iterate over thresholds and plot for each\n",
    "for row in thresholds:\n",
    "    plt.plot(t[:last_it][::subsample],conj[row].values[:last_it][::subsample] / 2,linewidth=3)\n",
    "    \n",
    "plt.legend([str(t) + \"m\" for t in thresholds],loc='upper center', bbox_to_anchor=(1.1,0.8), ncol=1, fancybox=True, shadow=True)\n",
    "plt.title(\"Conjunction Thresholds Comparison\")\n",
    "plt.xlabel(\"Days\")\n",
    "plt.ylabel(\"# of Conjunctions\")\n",
    "plt.gca().set_yscale(\"log\")"
   ]
  },
  {
   "cell_type": "code",
   "execution_count": null,
   "id": "ce842a55",
   "metadata": {},
   "outputs": [],
   "source": [
    "# Compute min, max and mean of orbital elements over simulation\n",
    "min_elements = [[],[],[],[],[],[]]\n",
    "mean_elements = [[],[],[],[],[],[]]\n",
    "max_elements = [[],[],[],[],[],[]]\n",
    "\n",
    "for v_it,r_it in tqdm(zip(vs,rs),total=len(vs)):\n",
    "    elements = [[],[],[],[],[],[]]\n",
    "    for v,r in zip(v_it,r_it):\n",
    "        a,e,i,W,w,E = pk.ic2par(r,v, pk.MU_EARTH)\n",
    "        elements[0].append(abs(a))\n",
    "        elements[1].append(abs(e))\n",
    "        elements[2].append(abs(i))\n",
    "        elements[3].append(abs(W))\n",
    "        elements[4].append(abs(w))\n",
    "        elements[5].append(abs(E))\n",
    "    for i in range(6):\n",
    "        min_elements[i].append(np.min(elements[i]))\n",
    "        mean_elements[i].append(np.mean(elements[i]))\n",
    "        max_elements[i].append(np.max(elements[i]))"
   ]
  },
  {
   "cell_type": "code",
   "execution_count": null,
   "id": "551b8a1c",
   "metadata": {
    "scrolled": false
   },
   "outputs": [],
   "source": [
    "#t ime axis of the simulation\n",
    "t = np.linspace(0,end_t.mjd - starting_t.mjd,len(mean_elements[0]))\n",
    "\n",
    "# Plot for each orbital element\n",
    "for idx,element in enumerate([\"a\",\"e\",\"i\",\"W\",\"w\",\"E\"]):\n",
    "    fig = plt.figure(figsize=(8,4),dpi=150)\n",
    "    fig.patch.set_facecolor('white')\n",
    "    plt.plot(t,mean_elements[idx],linewidth=1)\n",
    "#     plt.plot(t,min_elements[idx],linewidth=1)\n",
    "#     plt.plot(t,max_elements[idx],linewidth=1)\n",
    "    plt.legend([\"mean\",\"min\",\"max\"],loc='upper center', bbox_to_anchor=(1.1,0.8), ncol=1, fancybox=True, shadow=True)\n",
    "    plt.title(\"Evolution of \"+element)\n",
    "    plt.xlabel(\"Days\")\n",
    "    plt.ylabel(element)\n",
    "#         plt.gca().set_yscale(\"log\")"
   ]
  },
  {
   "cell_type": "code",
   "execution_count": null,
   "id": "9686a1c4",
   "metadata": {},
   "outputs": [],
   "source": [
    "# Compute a KNN to get distance to nearest neighbors over simulation\n",
    "\n",
    "all_distances = []\n",
    "\n",
    "for r_it in tqdm(rs,total=len(rs)):\n",
    "    elements = [[],[],[],[],[],[]]\n",
    "    knn = NearestNeighbors(n_neighbors=2).fit(r_it)\n",
    "    distances,_ = knn.kneighbors(r_it)\n",
    "    distances = distances[:,1] / 1000 # convert to km\n",
    "    all_distances.append(distances)\n",
    "    \n",
    "all_distances = np.asarray(all_distances)"
   ]
  },
  {
   "cell_type": "code",
   "execution_count": null,
   "id": "0db736f3",
   "metadata": {},
   "outputs": [],
   "source": [
    "# Subsample to look only at those below some threshold\n",
    "small_distances = []\n",
    "max_dist = 25\n",
    "for dist in all_distances:\n",
    "    small_distances.append(dist[dist < max_dist])"
   ]
  },
  {
   "cell_type": "code",
   "execution_count": null,
   "id": "7c75bcf5",
   "metadata": {},
   "outputs": [],
   "source": [
    "# Compute distributions for each iteration\n",
    "bins = 64\n",
    "x = np.linspace(0, max_dist, bins)\n",
    "y = np.linspace(0, total_days, len(all_distances))\n",
    "\n",
    "X, Y = np.meshgrid(x, y)\n",
    "Z = []\n",
    "for dist in tqdm(small_distances):\n",
    "    hist,bin_vals = np.histogram(dist, bins = x,density=False)\n",
    "    hist = np.cumsum(hist)\n",
    "    hist = np.concatenate([hist,[hist[-1]]]) # last value remains for bucket\n",
    "    Z.append(hist)\n",
    "x = np.concatenate([[0],x])\n",
    "Z = np.asarray(Z)"
   ]
  },
  {
   "cell_type": "code",
   "execution_count": null,
   "id": "b0a4a070",
   "metadata": {
    "scrolled": false
   },
   "outputs": [],
   "source": [
    "# Create beautiful plots\n",
    "fig = plt.figure(figsize = (6,6),dpi=150)\n",
    "ax = plt.axes(projection='3d')\n",
    "ax.plot_surface(X, Y, Z,  rstride=1, cstride=1, cmap=\"plasma\", edgecolor='none')\n",
    "ax.view_init(elev=20., azim=120)\n",
    "ax.set_xlabel('Closest Distance [km]')\n",
    "ax.set_ylabel('Days')\n",
    "ax.set_zlabel('Cumulative Frequency');\n",
    "ax.set_xlim([0,max_dist])"
   ]
  }
 ],
 "metadata": {
  "kernelspec": {
   "display_name": "Python 3 (ipykernel)",
   "language": "python",
   "name": "python3"
  },
  "language_info": {
   "codemirror_mode": {
    "name": "ipython",
    "version": 3
   },
   "file_extension": ".py",
   "mimetype": "text/x-python",
   "name": "python",
   "nbconvert_exporter": "python",
   "pygments_lexer": "ipython3",
   "version": "3.9.6"
  }
 },
 "nbformat": 4,
 "nbformat_minor": 5
}
