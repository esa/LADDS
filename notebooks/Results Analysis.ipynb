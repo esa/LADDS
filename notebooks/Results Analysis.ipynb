{
 "cells": [
  {
   "cell_type": "code",
   "execution_count": null,
   "id": "b5fe1f2e",
   "metadata": {},
   "outputs": [],
   "source": [
    "### Imports\n",
    "%load_ext autoreload\n",
    "%autoreload 2\n",
    "\n",
    "# Append main folder\n",
    "import sys\n",
    "sys.path.append(\"../\")\n",
    "import math\n",
    "from glob import glob\n",
    "\n",
    "from tqdm import tqdm\n",
    "import pykep as pk\n",
    "import numpy as np\n",
    "import matplotlib.pyplot as plt\n",
    "import pandas as pd\n",
    "\n",
    "from sklearn.neighbors import NearestNeighbors\n",
    "\n",
    "import h5py\n",
    "\n",
    "from mpl_toolkits import mplot3d\n",
    "%matplotlib notebook\n",
    "\n",
    "dt = 10 #timestep of the inspected simulations, affects time in plots\n",
    "starting_t = pk.epoch_from_string('2022-01-01 00:00:00.000')"
   ]
  },
  {
   "cell_type": "code",
   "execution_count": null,
   "id": "ee41caf4",
   "metadata": {},
   "outputs": [],
   "source": [
    "data = h5py.File(\"../build/simulationData.h5\")\n",
    "iterations_idx = list(data[\"ParticleData\"].keys())\n",
    "iterations_idx = [int(it) for it in iterations_idx]\n",
    "iterations_idx.sort()\n",
    "max_iterations = max(iterations_idx)\n",
    "print(max_iterations)\n",
    "\n",
    "# PK epochs of simulation time\n",
    "end_t = pk.epoch(starting_t.mjd2000 + max_iterations * dt * pk.SEC2DAY)\n",
    "total_days = end_t.mjd - starting_t.mjd"
   ]
  },
  {
   "cell_type": "code",
   "execution_count": null,
   "id": "1de94bdf",
   "metadata": {},
   "outputs": [],
   "source": [
    "def _to_float(arr):\n",
    "    casted = []\n",
    "    for p in arr:\n",
    "        p_casted = []\n",
    "        for val in p:\n",
    "            p_casted.append(float(val))\n",
    "        casted.append(p_casted)\n",
    "    return casted"
   ]
  },
  {
   "cell_type": "code",
   "execution_count": null,
   "id": "3289f383",
   "metadata": {},
   "outputs": [],
   "source": [
    "v"
   ]
  },
  {
   "cell_type": "code",
   "execution_count": null,
   "id": "bf9e8f72",
   "metadata": {},
   "outputs": [],
   "source": [
    "rs,vs,ids = [],[],[] #will hold r,v for whole simulation\n",
    "\n",
    "for idx in tqdm(iterations_idx):\n",
    "    v_x = data[\"ParticleData\"][str(idx)][\"Particles\"][\"Velocities\"][:][\"x\"]\n",
    "    v_y = data[\"ParticleData\"][str(idx)][\"Particles\"][\"Velocities\"][:][\"y\"]\n",
    "    v_z = data[\"ParticleData\"][str(idx)][\"Particles\"][\"Velocities\"][:][\"z\"]\n",
    "    v = np.vstack([v_x,v_y,v_z]).transpose()\n",
    "    r_x = data[\"ParticleData\"][str(idx)][\"Particles\"][\"Positions\"][:][\"x\"]\n",
    "    r_y = data[\"ParticleData\"][str(idx)][\"Particles\"][\"Positions\"][:][\"y\"]\n",
    "    r_z = data[\"ParticleData\"][str(idx)][\"Particles\"][\"Positions\"][:][\"z\"]\n",
    "    r = np.vstack([r_x,r_y,r_z]).transpose()\n",
    "    ID = np.array(data[\"ParticleData\"][str(idx)][\"Particles\"][\"IDs\"])\n",
    "    rs.append(r * 1000.) #convert to m \n",
    "    vs.append(v * 1000.) #convert to m \n",
    "    ids.append(ID)"
   ]
  },
  {
   "cell_type": "code",
   "execution_count": null,
   "id": "31024da6",
   "metadata": {},
   "outputs": [],
   "source": [
    "iteration_stepsize = iterations_idx[1] - iterations_idx[0]\n",
    "def find_closest_it(array,value):\n",
    "    idx = np.searchsorted(array, value+ (iteration_stepsize // 2), side=\"left\")\n",
    "    if idx > 0 and (idx == len(array) or math.fabs(value - array[idx-1]) < math.fabs(value - array[idx])):\n",
    "        return idx - 1\n",
    "    else:\n",
    "        return idx - 1\n",
    "    \n",
    "def get_particle_r_v(ID,it):\n",
    "    it = find_closest_it(iterations_idx,it)\n",
    "    idx = np.argmax(ids[it]==ID)\n",
    "    return rs[it][idx],vs[it][idx]"
   ]
  },
  {
   "cell_type": "code",
   "execution_count": null,
   "id": "da666df0",
   "metadata": {},
   "outputs": [],
   "source": [
    "# Threshold for conjunction tracking as used in simulation\n",
    "thresholds = [1,5,10,20,25,50,75,100]"
   ]
  },
  {
   "cell_type": "code",
   "execution_count": null,
   "id": "c32649b1",
   "metadata": {},
   "outputs": [],
   "source": [
    "# Convert conjunctions to pandas dataframe\n",
    "conj = pd.DataFrame(columns=[\"P1\",\"P2\",\"Iteration\",\"SquaredDistance\"])\n",
    "collision_keys = data[\"CollisionData\"].keys()\n",
    "for it in tqdm(collision_keys):\n",
    "    iteration = int(it)\n",
    "    collisions = data[\"CollisionData\"][it][\"Collisions\"]\n",
    "    for collision in collisions:\n",
    "        conj = conj.append({\"P1\":collision[0], \n",
    "                     \"P2\": collision[1], \n",
    "                     \"Iteration\": iteration, \n",
    "                     \"SquaredDistance\": collision[2]},\n",
    "                    ignore_index=True)"
   ]
  },
  {
   "cell_type": "code",
   "execution_count": null,
   "id": "df18dd6a",
   "metadata": {},
   "outputs": [],
   "source": [
    "conj"
   ]
  },
  {
   "cell_type": "code",
   "execution_count": null,
   "id": "7c9b783a",
   "metadata": {},
   "outputs": [],
   "source": [
    "# Sort ascending by conjunction distance, then drop all but the first to get closest encounter\n",
    "conj = conj.sort_values('SquaredDistance', ascending=True)\n",
    "unique_conj = conj.drop_duplicates(subset=[\"P1\",\"P2\"],keep=\"first\")\n",
    "unique_conj[\"Distance\"] = np.sqrt(unique_conj.SquaredDistance) * 1000. # Compute distance in meters\n",
    "del conj # deleting to not accidentally use it"
   ]
  },
  {
   "cell_type": "code",
   "execution_count": null,
   "id": "72c90e0b",
   "metadata": {},
   "outputs": [],
   "source": [
    "unique_conj"
   ]
  },
  {
   "cell_type": "code",
   "execution_count": null,
   "id": "468fd3cf",
   "metadata": {},
   "outputs": [],
   "source": [
    "# Compute conjunction counts at specific points in the simulation\n",
    "stepsize = 100\n",
    "# Time axis\n",
    "t = np.linspace(0,end_t.mjd - starting_t.mjd,stepsize)\n",
    "it = np.linspace(0,max_iterations,stepsize)\n",
    "summed_conjs = [[] for _ in thresholds]\n",
    "for i in tqdm(it):\n",
    "    for idx,threshold in enumerate(thresholds):\n",
    "        count = len(unique_conj[(unique_conj.Iteration < i) & (unique_conj.Distance < threshold)])\n",
    "        summed_conjs[idx].append(count)"
   ]
  },
  {
   "cell_type": "code",
   "execution_count": null,
   "id": "a9628720",
   "metadata": {},
   "outputs": [],
   "source": [
    "fig = plt.figure(figsize=(9,5),dpi=100)\n",
    "fig.patch.set_facecolor('white')\n",
    "\n",
    "# Iterate over thresholds and plot for each\n",
    "for idx,row in enumerate(thresholds):\n",
    "    plt.plot(t,summed_conjs[idx],linewidth=3)\n",
    "    \n",
    "plt.legend([str(t) + \"m\" for t in thresholds],loc='upper center', bbox_to_anchor=(1.1,0.8), ncol=1, fancybox=True, shadow=True)\n",
    "plt.title(\"Conjunction Thresholds Comparison\")\n",
    "plt.xlabel(\"Days\")\n",
    "plt.ylabel(\"# of Conjunctions\")\n",
    "plt.gca().set_yscale(\"log\")\n",
    "plt.tight_layout()"
   ]
  },
  {
   "cell_type": "code",
   "execution_count": null,
   "id": "145a1ef0",
   "metadata": {},
   "outputs": [],
   "source": [
    "# Compute conjunction counts at specific points in the simulation\n",
    "steps = 100\n",
    "max_threshold = 100\n",
    "# Time axis\n",
    "threshold_grid = np.logspace(-1,np.log10(max_threshold),steps)\n",
    "sums = []\n",
    "for idx,threshold in enumerate(threshold_grid):\n",
    "    count = len(unique_conj[(unique_conj.Distance < threshold)])\n",
    "    sums.append(count)\n",
    "\n",
    "fig = plt.figure(figsize=(5,5),dpi=100)\n",
    "fig.patch.set_facecolor('white')\n",
    "\n",
    "plt.plot(threshold_grid,sums,linewidth=3)\n",
    "    \n",
    "plt.title(\"Conjunction Thresholds vs. Conjunctions\")\n",
    "plt.xlabel(\"Threshold [m]\")\n",
    "plt.ylabel(\"# of Conjunctions\")\n",
    "# plt.gca().set_xscale(\"log\")\n",
    "# plt.gca().set_yscale(\"log\")\n",
    "plt.tight_layout()"
   ]
  },
  {
   "cell_type": "code",
   "execution_count": null,
   "id": "dd393a2e",
   "metadata": {},
   "outputs": [],
   "source": [
    "elements = [[],[],[],[],[],[]]\n",
    "threshold = 500\n",
    "for idx,row in tqdm(unique_conj.iterrows(),total=len(unique_conj.index)):\n",
    "    if row.Distance < threshold:\n",
    "        r,v = get_particle_r_v(row.P1,row.Iteration)\n",
    "        a,e,i,W,w,E = pk.ic2par(r.astype(\"double\"),v.astype(\"double\"), pk.MU_EARTH)\n",
    "        elements[0].append(abs(a))\n",
    "        elements[1].append(abs(e))\n",
    "        elements[2].append(abs(i))\n",
    "        elements[3].append(abs(W))\n",
    "        elements[4].append(abs(w))\n",
    "        elements[5].append(abs(E))\n",
    "        \n",
    "        r,v = get_particle_r_v(row.P2,row.Iteration)\n",
    "        a,e,i,W,w,E = pk.ic2par(r.astype(\"double\"),v.astype(\"double\"), pk.MU_EARTH)\n",
    "        elements[0].append(abs(a))\n",
    "        elements[1].append(abs(e))\n",
    "        elements[2].append(abs(i))\n",
    "        elements[3].append(abs(W))\n",
    "        elements[4].append(abs(w))\n",
    "        elements[5].append(abs(E))"
   ]
  },
  {
   "cell_type": "code",
   "execution_count": null,
   "id": "1c1ed433",
   "metadata": {},
   "outputs": [],
   "source": [
    "pop_elements = [[],[],[],[],[],[]]\n",
    "for r_i,v_i in tqdm(zip(rs[0],vs[0])):\n",
    "    a,e,i,W,w,E = pk.ic2par(r_i.astype(\"double\"),v_i.astype(\"double\"), pk.MU_EARTH)\n",
    "    pop_elements[0].append(abs(a))\n",
    "    pop_elements[1].append(abs(e))\n",
    "    pop_elements[2].append(abs(i))\n",
    "    pop_elements[3].append(abs(W))\n",
    "    pop_elements[4].append(abs(w))\n",
    "    pop_elements[5].append(abs(E))"
   ]
  },
  {
   "cell_type": "code",
   "execution_count": null,
   "id": "eadf5195",
   "metadata": {
    "scrolled": false
   },
   "outputs": [],
   "source": [
    "# Plot histogram of collisions for each orbital element\n",
    "for idx,element in enumerate([\"a [m]\",\"e\",\"i [rad]\",\"W\",\"w\",\"E\"]):\n",
    "    fig = plt.figure(figsize=(6,4),dpi=100)\n",
    "    fig.patch.set_facecolor('white')\n",
    "    bins = np.linspace(min(pop_elements[idx]),max(pop_elements[idx]),32)\n",
    "    plt.hist(elements[idx],bins=bins,density = True,alpha=0.5)\n",
    "    plt.hist(pop_elements[idx],bins=bins,density = True,alpha=0.5)\n",
    "    plt.legend([\"Conjunction dist.\",\"Population dist.\"])\n",
    "    plt.title(\"Histogram of \"+element)\n",
    "    plt.xlabel(element)\n",
    "    plt.ylabel(\"Relative Frequency\")\n",
    "    plt.tight_layout()\n"
   ]
  },
  {
   "cell_type": "code",
   "execution_count": null,
   "id": "ce842a55",
   "metadata": {},
   "outputs": [],
   "source": [
    "# Compute min, max and mean of orbital elements over simulation\n",
    "min_elements = [[],[],[],[],[],[]]\n",
    "mean_elements = [[],[],[],[],[],[]]\n",
    "max_elements = [[],[],[],[],[],[]]\n",
    "\n",
    "steps = list(range(len(rs)))\n",
    "\n",
    "for idx in tqdm(steps):\n",
    "    elements = [[],[],[],[],[],[]]\n",
    "    v_it,r_it = vs[idx],rs[idx]\n",
    "    for v,r in zip(v_it,r_it):\n",
    "        a,e,i,W,w,E = pk.ic2par(r.astype(\"double\"),v.astype(\"double\"), pk.MU_EARTH)\n",
    "        elements[0].append(abs(a))\n",
    "        elements[1].append(abs(e))\n",
    "        elements[2].append(abs(i))\n",
    "        elements[3].append(abs(W))\n",
    "        elements[4].append(abs(w))\n",
    "        elements[5].append(abs(E))\n",
    "    for i in range(6):\n",
    "        min_elements[i].append(np.min(elements[i]))\n",
    "        mean_elements[i].append(np.mean(elements[i]))\n",
    "        max_elements[i].append(np.max(elements[i]))"
   ]
  },
  {
   "cell_type": "code",
   "execution_count": null,
   "id": "551b8a1c",
   "metadata": {
    "scrolled": false
   },
   "outputs": [],
   "source": [
    "#t ime axis of the simulation\n",
    "t = np.linspace(0,end_t.mjd - starting_t.mjd,len(mean_elements[0]))\n",
    "\n",
    "# Plot for each orbital element\n",
    "for idx,element in enumerate([\"a\",\"e\",\"i\",\"W\",\"w\",\"E\"]):\n",
    "    fig = plt.figure(figsize=(6,4),dpi=100)\n",
    "    fig.patch.set_facecolor('white')\n",
    "    plt.plot(t,mean_elements[idx],linewidth=1)\n",
    "#     plt.plot(t,min_elements[idx],linewidth=1)\n",
    "#     plt.plot(t,max_elements[idx],linewidth=1)\n",
    "#     plt.legend([\"mean\",\"min\",\"max\"],loc='upper center', bbox_to_anchor=(1.1,0.8), ncol=1, fancybox=True, shadow=True)\n",
    "    plt.title(\"Evolution of \"+element)\n",
    "    plt.xlabel(\"Days\")\n",
    "    plt.ylabel(\"Mean \" + element)\n",
    "    plt.tight_layout()\n",
    "#         plt.gca().set_yscale(\"log\")"
   ]
  },
  {
   "cell_type": "code",
   "execution_count": null,
   "id": "9686a1c4",
   "metadata": {},
   "outputs": [],
   "source": [
    "# Compute a KNN to get distance to nearest neighbors over simulation\n",
    "\n",
    "all_distances = []\n",
    "\n",
    "r_subset = rs[::1]\n",
    "\n",
    "for r_it in tqdm(r_subset,total=len(r_subset)):\n",
    "    elements = [[],[],[],[],[],[]]\n",
    "    knn = NearestNeighbors(n_neighbors=2).fit(r_it)\n",
    "    distances,_ = knn.kneighbors(r_it)\n",
    "    distances = distances[:,1] / 1000 # convert to km\n",
    "    all_distances.append(distances)\n",
    "    \n",
    "all_distances = np.asarray(all_distances)"
   ]
  },
  {
   "cell_type": "code",
   "execution_count": null,
   "id": "0db736f3",
   "metadata": {},
   "outputs": [],
   "source": [
    "# Subsample to look only at those below some threshold\n",
    "small_distances = []\n",
    "max_dist = 10\n",
    "for dist in all_distances:\n",
    "    small_distances.append(dist[dist < max_dist])"
   ]
  },
  {
   "cell_type": "code",
   "execution_count": null,
   "id": "7c75bcf5",
   "metadata": {},
   "outputs": [],
   "source": [
    "# Compute distributions for each iteration\n",
    "bins = 64\n",
    "x = np.linspace(0, max_dist, bins)\n",
    "y = np.linspace(0, total_days, len(all_distances))\n",
    "\n",
    "X, Y = np.meshgrid(x, y)\n",
    "Z = []\n",
    "for dist in tqdm(small_distances):\n",
    "    hist,bin_vals = np.histogram(dist, bins = x,density=False)\n",
    "    hist = np.cumsum(hist)\n",
    "    hist = np.concatenate([hist,[hist[-1]]]) # last value remains for bucket\n",
    "    Z.append(hist)\n",
    "x = np.concatenate([[0],x])\n",
    "Z = np.asarray(Z)"
   ]
  },
  {
   "cell_type": "code",
   "execution_count": null,
   "id": "b0a4a070",
   "metadata": {
    "scrolled": false
   },
   "outputs": [],
   "source": [
    "# Create beautiful plots\n",
    "fig = plt.figure(figsize = (8,8),dpi=100)\n",
    "ax = plt.axes(projection='3d')\n",
    "ax.plot_surface(X, Y, Z,  rstride=1, cstride=1, cmap=\"plasma\", edgecolor='none')\n",
    "ax.view_init(elev=20., azim=120)\n",
    "ax.set_xlabel('Closest Distance [km]')\n",
    "ax.set_ylabel('Days')\n",
    "ax.set_zlabel('Cumulative Frequency');\n",
    "ax.set_xlim([0,max_dist])"
   ]
  },
  {
   "cell_type": "code",
   "execution_count": null,
   "id": "3b883519",
   "metadata": {},
   "outputs": [],
   "source": []
  }
 ],
 "metadata": {
  "kernelspec": {
   "display_name": "Python 3 (ipykernel)",
   "language": "python",
   "name": "python3"
  },
  "language_info": {
   "codemirror_mode": {
    "name": "ipython",
    "version": 3
   },
   "file_extension": ".py",
   "mimetype": "text/x-python",
   "name": "python",
   "nbconvert_exporter": "python",
   "pygments_lexer": "ipython3",
   "version": "3.9.7"
  }
 },
 "nbformat": 4,
 "nbformat_minor": 5
}
