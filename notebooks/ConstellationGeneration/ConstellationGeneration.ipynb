{
 "cells": [
  {
   "cell_type": "code",
   "execution_count": null,
   "id": "0a48e2c9",
   "metadata": {},
   "outputs": [],
   "source": [
    "### Imports\n",
    "%load_ext autoreload\n",
    "%autoreload 2\n",
    "\n",
    "# Append main folder\n",
    "import sys\n",
    "sys.path.append(\"../\")\n",
    "\n",
    "import pykep as pk\n",
    "import numpy as np\n",
    "import matplotlib.pyplot as plt\n",
    "import math\n",
    "import os\n",
    "\n",
    "starting_t = pk.epoch_from_string('2022-01-01 00:00:00.000')\n",
    "lower_cutoff_in_km = 6371 + 200 # Earth radius + ...\n",
    "higher_cutoff_in_km = 6371 + 2000"
   ]
  },
  {
   "cell_type": "markdown",
   "id": "b8754e98",
   "metadata": {},
   "source": [
    "# Initialize / reset planet_list and other"
   ]
  },
  {
   "cell_type": "code",
   "execution_count": null,
   "id": "906f7bda",
   "metadata": {},
   "outputs": [],
   "source": [
    "planet_list = []\n",
    "shell_list = []\n",
    "xparams_list = []\n",
    "print(\"Planet list is now empty\")"
   ]
  },
  {
   "cell_type": "markdown",
   "id": "e78dc60e",
   "metadata": {},
   "source": [
    "# Generate partial constellations by specifying shell = ( altitude, inclination, nPlanes, nSats )"
   ]
  },
  {
   "cell_type": "code",
   "execution_count": null,
   "id": "5fd559cc",
   "metadata": {},
   "outputs": [],
   "source": [
    "# creates a temporary shell that has to be appended to planet_list in cell \"Append to planet_list and other\"\n",
    "# to be stored and not get overwritten (this also concerns additional shell data shell_list, xparams_list)\n",
    "\n",
    "#---input-----------------------------------------------------------------------------------------------------------\n",
    "altitude = 370\n",
    "inclination = 55.0\n",
    "nPlanes = 10\n",
    "nSats = 12\n",
    "#-------------------------------------------------------------------------------------------------------------------\n",
    "#---extra-params----------------------------------------------------------------------------------------------------\n",
    "\n",
    "#offsetM = offset for M added after each plane (relative phasing)\n",
    "# walker constellation: offsetM = F * 360 / (nPlanes * nSats) ; F element {0, ... , nPlanes - 1}\n",
    "offsetM = 0    # default 0\n",
    "\n",
    "#startingM = offset for M that is not accumulating\n",
    "# overlapping shells (same altitude, same inclination):\n",
    "# (360 / G) / 2 ; G = smallest common multiple of the overlapping nPlanes\n",
    "startingM = 0  # default 0 \n",
    "\n",
    "#startingW = offset for W that is not accumulating\n",
    "startingW = 0  # default 0\n",
    "\n",
    "#minimumW, maximumW: orbital planes are distributed evenly within range [minimumW,maximumW)\n",
    "minimumW = 0       # default 0\n",
    "maximumW = 360     # default 360\n",
    "#-------------------------------------------------------------------------------------------------------------------\n",
    "\n",
    "minW = minimumW + startingW\n",
    "maxW = maximumW + startingW\n",
    "\n",
    "a = altitude*1000 + 6371000            # in [m], earth radius included\n",
    "e = 0\n",
    "i = inclination * pk.DEG2RAD\n",
    "W = pk.DEG2RAD*minW\n",
    "w = 0\n",
    "M = pk.DEG2RAD * startingM\n",
    "\n",
    "plane_count=0\n",
    "\n",
    "when = starting_t\n",
    "mu_central_body = pk.MU_EARTH\n",
    "mu_self = 1\n",
    "radius = 1\n",
    "safe_radius = 1\n",
    "\n",
    "pStep = pk.DEG2RAD*(maxW-minW)/ nPlanes  # W goes from minimumW to maximumW (default: 0° to 360°)\n",
    "sStep = 2*math.pi/ nSats                    # M goes from 0° to 360°\n",
    "sExtraStep = pk.DEG2RAD*offsetM\n",
    "\n",
    "planet_list_tmp = []\n",
    "for x in range(nPlanes):\n",
    "    for y in range(nSats):\n",
    "        planet_list_tmp.append(pk.planet.keplerian(when,[a,e,i,W,w,M], mu_central_body, mu_self,radius, safe_radius ,\"sat\"))\n",
    "        M = M + sStep\n",
    "    plane_count = plane_count + 1\n",
    "    W = W + pStep\n",
    "    M = startingM + plane_count*sExtraStep     #equals 0 + count*0 = 0 in the usual case\n",
    "    \n",
    "shell = (altitude,inclination,nPlanes,nSats)\n",
    "xparams = (offsetM,startingM,startingW,minimumW,maximumW)\n",
    "\n",
    "print(\"Added \" + str(len(planet_list_tmp)) + \" planets\")"
   ]
  },
  {
   "cell_type": "markdown",
   "id": "6a4e87f4",
   "metadata": {},
   "source": [
    "## Append to planet_list and other"
   ]
  },
  {
   "cell_type": "code",
   "execution_count": null,
   "id": "202135a4",
   "metadata": {},
   "outputs": [],
   "source": [
    "# stores and appends temporary shell in planet_list (including lists with additional data)\n",
    "planet_list = planet_list + planet_list_tmp\n",
    "shell_list.append(shell)\n",
    "xparams_list.append(xparams)\n",
    "print(\"Added \" + str(len(planet_list_tmp)) + \" to planet_list now totalling \" + str(len(planet_list)) + \" planets.\")"
   ]
  },
  {
   "cell_type": "markdown",
   "id": "8cd629fd",
   "metadata": {},
   "source": [
    "## Plot some examples"
   ]
  },
  {
   "cell_type": "code",
   "execution_count": null,
   "id": "9f3f3a16",
   "metadata": {},
   "outputs": [],
   "source": [
    "fig = plt.figure(figsize=(6,6),dpi=100)\n",
    "ax = plt.axes(projection='3d')\n",
    "for i in range (nPlanes*nSats):\n",
    "    pk.orbit_plots.plot_planet(planet_list_tmp[i],axes=ax,s=20)"
   ]
  },
  {
   "cell_type": "markdown",
   "id": "dbd01df1",
   "metadata": {},
   "source": [
    "## Propagate all objects to t and discard too low and high ones"
   ]
  },
  {
   "cell_type": "code",
   "execution_count": null,
   "id": "3106348d",
   "metadata": {},
   "outputs": [],
   "source": [
    "objects = []\n",
    "count_too_low = 0\n",
    "count_too_high = 0\n",
    "for planet in planet_list:\n",
    "    try:\n",
    "        pos,v = planet.eph(starting_t)\n",
    "        \n",
    "        # convert to km and numpy\n",
    "        pos = np.asarray(pos) / 1000.0 \n",
    "        v = np.asarray(v) / 1000.0\n",
    "        altitude = np.linalg.norm(pos)\n",
    "        if altitude < lower_cutoff_in_km:\n",
    "            count_too_low += 1\n",
    "            continue\n",
    "        if altitude > higher_cutoff_in_km:\n",
    "            count_too_high += 1\n",
    "            continue\n",
    "        \n",
    "        objects.append((pos,v))\n",
    "    except RuntimeError as e:\n",
    "        print(e, \" propagating \",planet.name)\n",
    "        \n",
    "print(\"Successfully propagated \",len(objects),\" objects.\")\n",
    "print(count_too_low,\" had a too small altitude\")\n",
    "print(count_too_high,\" had a too high altitude\")\n",
    "\n",
    "shells = \"\"\n",
    "for i in range(len(shell_list)):\n",
    "    for j in range(4):\n",
    "        shells += str(shell_list[i][j]) + \" \"\n",
    "    shells += \"\\n\"\n",
    "    \n",
    "extraParams = \"\"\n",
    "for i in range(len(xparams_list)):\n",
    "    for j in range(5):\n",
    "        extraParams += str(xparams_list[i][j]) + \" \"\n",
    "    extraParams += \"\\n\""
   ]
  },
  {
   "cell_type": "markdown",
   "id": "5c77e85b",
   "metadata": {},
   "source": [
    "## Plot and store results"
   ]
  },
  {
   "cell_type": "code",
   "execution_count": null,
   "id": "8aae75ff",
   "metadata": {},
   "outputs": [],
   "source": [
    "fig = plt.figure(figsize=(6,6),dpi=100)\n",
    "ax = plt.axes(projection='3d');\n",
    "\n",
    "positions = np.array([pos for pos,_ in objects])\n",
    "velocities = np.array([v for _,v in objects])\n",
    "ax.scatter(positions[:,0],positions[:,1],positions[:,2],\".\",alpha=0.25)"
   ]
  },
  {
   "cell_type": "code",
   "execution_count": null,
   "id": "cf6eb7d5",
   "metadata": {},
   "outputs": [],
   "source": [
    "# creates directory named as the constellation_name value within the data folder and stores output there\n",
    "\n",
    "constellation_name = \"Constellation\"\n",
    "os.mkdir(\"../../data/\" + constellation_name);\n",
    "\n",
    "np.savetxt(\"../../data/\" + constellation_name + \"/pos_\"+constellation_name+\".csv\",positions,delimiter=\",\")\n",
    "np.savetxt(\"../../data/\" + constellation_name + \"/v_\"+constellation_name+\".csv\",velocities,delimiter=\",\")\n",
    "\n",
    "f1 = open(\"../../data/\" + constellation_name + \"/shells_\"+constellation_name+\".txt\",\"w\")\n",
    "f1.write(shells)\n",
    "f1.close()\n",
    "\n",
    "f2 = open(\"../../data/\" + constellation_name + \"/xparams_\"+constellation_name+\".txt\",\"w\")\n",
    "f2.write(extraParams)\n",
    "f2.close()"
   ]
  },
  {
   "cell_type": "code",
   "execution_count": null,
   "id": "e2f6bc17",
   "metadata": {},
   "outputs": [],
   "source": []
  }
 ],
 "metadata": {
  "kernelspec": {
   "display_name": "Python 3 (ipykernel)",
   "language": "python",
   "name": "python3"
  },
  "language_info": {
   "codemirror_mode": {
    "name": "ipython",
    "version": 3
   },
   "file_extension": ".py",
   "mimetype": "text/x-python",
   "name": "python",
   "nbconvert_exporter": "python",
   "pygments_lexer": "ipython3",
   "version": "3.9.7"
  }
 },
 "nbformat": 4,
 "nbformat_minor": 5
}
