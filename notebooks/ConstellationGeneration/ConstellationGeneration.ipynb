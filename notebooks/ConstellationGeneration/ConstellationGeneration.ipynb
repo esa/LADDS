{
 "cells": [
  {
   "cell_type": "code",
   "execution_count": null,
   "id": "0a48e2c9",
   "metadata": {},
   "outputs": [],
   "source": [
    "### Imports\n",
    "%load_ext autoreload\n",
    "%autoreload 2\n",
    "\n",
    "# Append main folder\n",
    "import sys\n",
    "sys.path.append(\"../\")\n",
    "\n",
    "import pykep as pk\n",
    "import numpy as np\n",
    "import matplotlib.pyplot as plt\n",
    "import math\n",
    "import os\n",
    "\n",
    "starting_t = pk.epoch_from_string('2022-01-01 00:00:00.000')\n",
    "lower_cutoff_in_km = 6371 + 200 # Earth radius + ...\n",
    "higher_cutoff_in_km = 6371 + 2000"
   ]
  },
  {
   "cell_type": "markdown",
   "id": "b8754e98",
   "metadata": {},
   "source": [
    "# 1. Initialize Constellation and reset planet_list and other lists"
   ]
  },
  {
   "cell_type": "code",
   "execution_count": null,
   "id": "906f7bda",
   "metadata": {},
   "outputs": [],
   "source": [
    "#---Constellation data----------------------------------------------------------------------------------------------\n",
    "constellation_name = \"AstraPhase3\"\n",
    "startTime = 0\n",
    "duration = 0\n",
    "#-------------------------------------------------------------------------------------------------------------------\n",
    "nShells = 0\n",
    "planet_list = []\n",
    "shell_list = []\n",
    "xparams_list = []\n",
    "print(\"Planet list is now empty\")"
   ]
  },
  {
   "cell_type": "markdown",
   "id": "e78dc60e",
   "metadata": {},
   "source": [
    "# 2.1 Generate shell = ( altitude, inclination, nPlanes, nSats )"
   ]
  },
  {
   "cell_type": "code",
   "execution_count": null,
   "id": "5fd559cc",
   "metadata": {},
   "outputs": [],
   "source": [
    "# creates a temporary shell that has to be appended to planet_list in cell \"Append to planet_list and other\"\n",
    "# to be stored and not get overwritten (this also concerns additional shell data shell_list, xparams_list)\n",
    "\n",
    "#---input-----------------------------------------------------------------------------------------------------------\n",
    "altitude = 400\n",
    "inclination = 55.0\n",
    "nPlanes = 61\n",
    "nSats = 68\n",
    "#-------------------------------------------------------------------------------------------------------------------\n",
    "#---extra-params----------------------------------------------------------------------------------------------------\n",
    "\n",
    "#offsetM = offset for Mean Anomaly added after each plane (relative phasing)\n",
    "# walker constellation: offsetM = F * 360 / (nPlanes * nSats) ; F element {0, ... , nPlanes - 1}\n",
    "offsetM = 0    # default 0\n",
    "\n",
    "#argPeriapsis = argument of periapsis\n",
    "# starting point of satellite placement for each plane\n",
    "# argPeriapsis = pi avoids collisions in planes that intersect at reference plane\n",
    "argPeriapsis = math.pi  # default math.pi \n",
    "\n",
    "#startingW = offset for W that is not accumulating (W = longitude of ascending node)\n",
    "# formula for overlapping shells (same altitude, same inclination):\n",
    "# (360 / G) / 2 ; G = smallest common multiple of the overlapping nPlanes\n",
    "startingW = 0  # default 0\n",
    "\n",
    "# W_area: orbital planes are distributed evenly within range [startingW,startingW + maximumW)\n",
    "W_area = 360     # default 360\n",
    "#-------------------------------------------------------------------------------------------------------------------\n",
    "\n",
    "minW = startingW\n",
    "maxW = W_area + startingW\n",
    "\n",
    "a = altitude * 1000 + 6371000    # in [m], earth radius included\n",
    "e = 0\n",
    "i = inclination * pk.DEG2RAD\n",
    "W = pk.DEG2RAD * minW\n",
    "w = argPeriapsis * pk.DEG2RAD       \n",
    "M = 0             \n",
    "\n",
    "plane_count = 0\n",
    "\n",
    "when = starting_t\n",
    "mu_central_body = pk.MU_EARTH\n",
    "mu_self = 1\n",
    "radius = 1\n",
    "safe_radius = 1\n",
    "\n",
    "pStep = pk.DEG2RAD * W_area / nPlanes  # W goes from startingW to startingW+W_area\n",
    "sStep = 2 * math.pi / nSats              # M goes from 0° to 360°\n",
    "sExtraStep = pk.DEG2RAD*offsetM\n",
    "\n",
    "planet_list_tmp = []\n",
    "for x in range(nPlanes):\n",
    "    for y in range(nSats):\n",
    "        planet_list_tmp.append(pk.planet.keplerian(when,[a,e,i,W,w,M],mu_central_body,mu_self,radius,safe_radius,\"sat\"))\n",
    "        M = M + sStep\n",
    "    plane_count = plane_count + 1\n",
    "    W = W + pStep\n",
    "    M = plane_count * sExtraStep     #equals 0 + count*0 = 0 in the usual case\n",
    "    \n",
    "shell = (altitude,inclination,nPlanes,nSats)\n",
    "xparams = (offsetM,argPeriapsis,startingW,W_area)\n",
    "\n",
    "nShells += 1\n",
    "\n",
    "print(\"Added \" + str(len(planet_list_tmp)) + \" planets\")"
   ]
  },
  {
   "cell_type": "markdown",
   "id": "6a4e87f4",
   "metadata": {},
   "source": [
    "# 2.2 Append to planet_list and other"
   ]
  },
  {
   "cell_type": "code",
   "execution_count": null,
   "id": "202135a4",
   "metadata": {},
   "outputs": [],
   "source": [
    "# stores and appends temporary shell in planet_list (including lists with additional data)\n",
    "planet_list = planet_list + planet_list_tmp\n",
    "shell_list.append(shell)\n",
    "xparams_list.append(xparams)\n",
    "print(\"Added \" + str(len(planet_list_tmp)) + \" to planet_list now totalling \" + str(len(planet_list)) + \" planets.\")"
   ]
  },
  {
   "cell_type": "markdown",
   "id": "8cd629fd",
   "metadata": {},
   "source": [
    "## Plot current shell"
   ]
  },
  {
   "cell_type": "code",
   "execution_count": null,
   "id": "9f3f3a16",
   "metadata": {},
   "outputs": [],
   "source": [
    "fig = plt.figure(figsize=(6,6),dpi=100)\n",
    "ax = plt.axes(projection='3d')\n",
    "for i in range (nPlanes*nSats):\n",
    "    pk.orbit_plots.plot_planet(planet_list_tmp[i],axes=ax,s=20)"
   ]
  },
  {
   "cell_type": "markdown",
   "id": "dbd01df1",
   "metadata": {},
   "source": [
    "# 3. Propagate all objects to t and discard too low and high ones"
   ]
  },
  {
   "cell_type": "code",
   "execution_count": null,
   "id": "3106348d",
   "metadata": {},
   "outputs": [],
   "source": [
    "objects = []\n",
    "count_too_low = 0\n",
    "count_too_high = 0\n",
    "for planet in planet_list:\n",
    "    try:\n",
    "        pos,v = planet.eph(starting_t)\n",
    "        \n",
    "        # convert to km and numpy\n",
    "        pos = np.asarray(pos) / 1000.0 \n",
    "        v = np.asarray(v) / 1000.0\n",
    "        altitude = np.linalg.norm(pos)\n",
    "        if altitude < lower_cutoff_in_km:\n",
    "            count_too_low += 1\n",
    "            continue\n",
    "        if altitude > higher_cutoff_in_km:\n",
    "            count_too_high += 1\n",
    "            continue\n",
    "        \n",
    "        objects.append((pos,v))\n",
    "    except RuntimeError as e:\n",
    "        print(e, \" propagating \",planet.name)\n",
    "        \n",
    "print(\"Successfully propagated \",len(objects),\" objects.\")\n",
    "print(count_too_low,\" had a too small altitude\")\n",
    "print(count_too_high,\" had a too high altitude\")"
   ]
  },
  {
   "cell_type": "markdown",
   "id": "5c77e85b",
   "metadata": {},
   "source": [
    "# 4. Plot and store results"
   ]
  },
  {
   "cell_type": "code",
   "execution_count": null,
   "id": "8aae75ff",
   "metadata": {},
   "outputs": [],
   "source": [
    "fig = plt.figure(figsize=(6,6),dpi=100)\n",
    "ax = plt.axes(projection='3d');\n",
    "# pos , v (.csv)\n",
    "positions = np.array([pos for pos,_ in objects])\n",
    "velocities = np.array([v for _,v in objects])\n",
    "ax.scatter(positions[:,0],positions[:,1],positions[:,2],\".\",alpha=0.25)\n",
    "# parameters (.yaml)\n",
    "constellation_yaml = \"\"\n",
    "constellation_yaml += \"constellation:\\n\"\n",
    "constellation_yaml += \"  name: \" + constellation_name + \"\\n\"\n",
    "constellation_yaml += \"  startTime: \" + str(startTime) + \"\\n\"\n",
    "constellation_yaml += \"  duration: \" + str(duration) + \"\\n\"\n",
    "constellation_yaml += \"  nShells: \" + str(nShells) + \"\\n\\n\"\n",
    "for i in range(nShells):\n",
    "    constellation_yaml += \"shell\" + str(i+1) + \":\\n\"\n",
    "    constellation_yaml += \"  altitude: \" + str(shell_list[i][0]) + \"\\n\"\n",
    "    constellation_yaml += \"  inclination: \" + str(shell_list[i][1]) + \"\\n\"\n",
    "    constellation_yaml += \"  nPlanes: \" + str(shell_list[i][2]) + \"\\n\"\n",
    "    constellation_yaml += \"  nSats: \" + str(shell_list[i][3]) + \"\\n\\n\"\n",
    "for i in range(nShells):\n",
    "    constellation_yaml += \"special\" + str(i+1) + \":\\n\"\n",
    "    constellation_yaml += \"  offsetM: \" + str(xparams_list[i][0]) + \"\\n\"\n",
    "    constellation_yaml += \"  argPeriapsis: \" + str(xparams_list[i][1]) + \"\\n\"\n",
    "    constellation_yaml += \"  startingW: \" + str(xparams_list[i][2]) + \"\\n\"\n",
    "    constellation_yaml += \"  W_area: \" + str(xparams_list[i][3]) + \"\\n\\n\""
   ]
  },
  {
   "cell_type": "markdown",
   "id": "91f07380",
   "metadata": {},
   "source": [
    "# 5. Save Constellation as files in directory"
   ]
  },
  {
   "cell_type": "code",
   "execution_count": null,
   "id": "cf6eb7d5",
   "metadata": {},
   "outputs": [],
   "source": [
    "# creates directory named as the constellation_name value within the data folder and stores output there\n",
    "\n",
    "os.mkdir(\"../../data/\" + constellation_name);\n",
    "\n",
    "np.savetxt(\"../../data/\" + constellation_name + \"/pos_\"+constellation_name+\".csv\",positions,delimiter=\",\")\n",
    "np.savetxt(\"../../data/\" + constellation_name + \"/v_\"+constellation_name+\".csv\",velocities,delimiter=\",\")\n",
    "\n",
    "f1 = open(\"../../data/\" + constellation_name + \"/shells_\"+constellation_name+\".yaml\",\"w\")\n",
    "f1.write(constellation_yaml)\n",
    "f1.close()"
   ]
  },
  {
   "cell_type": "code",
   "execution_count": null,
   "id": "c2328ea2",
   "metadata": {},
   "outputs": [],
   "source": []
  }
 ],
 "metadata": {
  "kernelspec": {
   "display_name": "Python 3 (ipykernel)",
   "language": "python",
   "name": "python3"
  },
  "language_info": {
   "codemirror_mode": {
    "name": "ipython",
    "version": 3
   },
   "file_extension": ".py",
   "mimetype": "text/x-python",
   "name": "python",
   "nbconvert_exporter": "python",
   "pygments_lexer": "ipython3",
   "version": "3.9.7"
  }
 },
 "nbformat": 4,
 "nbformat_minor": 5
}
